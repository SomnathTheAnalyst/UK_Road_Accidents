{
 "cells": [
  {
   "cell_type": "code",
   "execution_count": 1,
   "id": "3c73d9a9",
   "metadata": {},
   "outputs": [],
   "source": [
    "import pandas as pd\n",
    "import numpy as np\n",
    "import matplotlib.pyplot as plt\n",
    "import seaborn as sns\n",
    "pd.set_option('display.max_columns',None)"
   ]
  },
  {
   "cell_type": "code",
   "execution_count": 2,
   "id": "329003e2",
   "metadata": {},
   "outputs": [
    {
     "name": "stderr",
     "output_type": "stream",
     "text": [
      "C:\\Users\\Somna\\anaconda3\\lib\\site-packages\\IPython\\core\\interactiveshell.py:3444: DtypeWarning: Columns (0) have mixed types.Specify dtype option on import or set low_memory=False.\n",
      "  exec(code_obj, self.user_global_ns, self.user_ns)\n"
     ]
    },
    {
     "data": {
      "text/html": [
       "<div>\n",
       "<style scoped>\n",
       "    .dataframe tbody tr th:only-of-type {\n",
       "        vertical-align: middle;\n",
       "    }\n",
       "\n",
       "    .dataframe tbody tr th {\n",
       "        vertical-align: top;\n",
       "    }\n",
       "\n",
       "    .dataframe thead th {\n",
       "        text-align: right;\n",
       "    }\n",
       "</style>\n",
       "<table border=\"1\" class=\"dataframe\">\n",
       "  <thead>\n",
       "    <tr style=\"text-align: right;\">\n",
       "      <th></th>\n",
       "      <th>Accident_Index</th>\n",
       "      <th>1st_Road_Class</th>\n",
       "      <th>1st_Road_Number</th>\n",
       "      <th>2nd_Road_Class</th>\n",
       "      <th>2nd_Road_Number</th>\n",
       "      <th>Accident_Severity</th>\n",
       "      <th>Carriageway_Hazards</th>\n",
       "      <th>Date</th>\n",
       "      <th>Day_of_Week</th>\n",
       "      <th>Did_Police_Officer_Attend_Scene_of_Accident</th>\n",
       "      <th>Junction_Control</th>\n",
       "      <th>Junction_Detail</th>\n",
       "      <th>Latitude</th>\n",
       "      <th>Light_Conditions</th>\n",
       "      <th>Local_Authority_(District)</th>\n",
       "      <th>Local_Authority_(Highway)</th>\n",
       "      <th>Location_Easting_OSGR</th>\n",
       "      <th>Location_Northing_OSGR</th>\n",
       "      <th>Longitude</th>\n",
       "      <th>LSOA_of_Accident_Location</th>\n",
       "      <th>Number_of_Casualties</th>\n",
       "      <th>Number_of_Vehicles</th>\n",
       "      <th>Pedestrian_Crossing-Human_Control</th>\n",
       "      <th>Pedestrian_Crossing-Physical_Facilities</th>\n",
       "      <th>Police_Force</th>\n",
       "      <th>Road_Surface_Conditions</th>\n",
       "      <th>Road_Type</th>\n",
       "      <th>Special_Conditions_at_Site</th>\n",
       "      <th>Speed_limit</th>\n",
       "      <th>Time</th>\n",
       "      <th>Urban_or_Rural_Area</th>\n",
       "      <th>Weather_Conditions</th>\n",
       "      <th>Year</th>\n",
       "      <th>InScotland</th>\n",
       "    </tr>\n",
       "  </thead>\n",
       "  <tbody>\n",
       "    <tr>\n",
       "      <th>0</th>\n",
       "      <td>200501BS00001</td>\n",
       "      <td>A</td>\n",
       "      <td>3218.0</td>\n",
       "      <td>NaN</td>\n",
       "      <td>0.0</td>\n",
       "      <td>Serious</td>\n",
       "      <td>None</td>\n",
       "      <td>2005-01-04</td>\n",
       "      <td>Tuesday</td>\n",
       "      <td>1.0</td>\n",
       "      <td>Data missing or out of range</td>\n",
       "      <td>Not at junction or within 20 metres</td>\n",
       "      <td>51.489096</td>\n",
       "      <td>Daylight</td>\n",
       "      <td>Kensington and Chelsea</td>\n",
       "      <td>Kensington and Chelsea</td>\n",
       "      <td>525680.0</td>\n",
       "      <td>178240.0</td>\n",
       "      <td>-0.191170</td>\n",
       "      <td>E01002849</td>\n",
       "      <td>1</td>\n",
       "      <td>1</td>\n",
       "      <td>0.0</td>\n",
       "      <td>1.0</td>\n",
       "      <td>Metropolitan Police</td>\n",
       "      <td>Wet or damp</td>\n",
       "      <td>Single carriageway</td>\n",
       "      <td>None</td>\n",
       "      <td>30.0</td>\n",
       "      <td>17:42</td>\n",
       "      <td>Urban</td>\n",
       "      <td>Raining no high winds</td>\n",
       "      <td>2005</td>\n",
       "      <td>No</td>\n",
       "    </tr>\n",
       "    <tr>\n",
       "      <th>1</th>\n",
       "      <td>200501BS00002</td>\n",
       "      <td>B</td>\n",
       "      <td>450.0</td>\n",
       "      <td>C</td>\n",
       "      <td>0.0</td>\n",
       "      <td>Slight</td>\n",
       "      <td>None</td>\n",
       "      <td>2005-01-05</td>\n",
       "      <td>Wednesday</td>\n",
       "      <td>1.0</td>\n",
       "      <td>Auto traffic signal</td>\n",
       "      <td>Crossroads</td>\n",
       "      <td>51.520075</td>\n",
       "      <td>Darkness - lights lit</td>\n",
       "      <td>Kensington and Chelsea</td>\n",
       "      <td>Kensington and Chelsea</td>\n",
       "      <td>524170.0</td>\n",
       "      <td>181650.0</td>\n",
       "      <td>-0.211708</td>\n",
       "      <td>E01002909</td>\n",
       "      <td>1</td>\n",
       "      <td>1</td>\n",
       "      <td>0.0</td>\n",
       "      <td>5.0</td>\n",
       "      <td>Metropolitan Police</td>\n",
       "      <td>Dry</td>\n",
       "      <td>Dual carriageway</td>\n",
       "      <td>None</td>\n",
       "      <td>30.0</td>\n",
       "      <td>17:36</td>\n",
       "      <td>Urban</td>\n",
       "      <td>Fine no high winds</td>\n",
       "      <td>2005</td>\n",
       "      <td>No</td>\n",
       "    </tr>\n",
       "    <tr>\n",
       "      <th>2</th>\n",
       "      <td>200501BS00003</td>\n",
       "      <td>C</td>\n",
       "      <td>0.0</td>\n",
       "      <td>NaN</td>\n",
       "      <td>0.0</td>\n",
       "      <td>Slight</td>\n",
       "      <td>None</td>\n",
       "      <td>2005-01-06</td>\n",
       "      <td>Thursday</td>\n",
       "      <td>1.0</td>\n",
       "      <td>Data missing or out of range</td>\n",
       "      <td>Not at junction or within 20 metres</td>\n",
       "      <td>51.525301</td>\n",
       "      <td>Darkness - lights lit</td>\n",
       "      <td>Kensington and Chelsea</td>\n",
       "      <td>Kensington and Chelsea</td>\n",
       "      <td>524520.0</td>\n",
       "      <td>182240.0</td>\n",
       "      <td>-0.206458</td>\n",
       "      <td>E01002857</td>\n",
       "      <td>1</td>\n",
       "      <td>2</td>\n",
       "      <td>0.0</td>\n",
       "      <td>0.0</td>\n",
       "      <td>Metropolitan Police</td>\n",
       "      <td>Dry</td>\n",
       "      <td>Single carriageway</td>\n",
       "      <td>None</td>\n",
       "      <td>30.0</td>\n",
       "      <td>00:15</td>\n",
       "      <td>Urban</td>\n",
       "      <td>Fine no high winds</td>\n",
       "      <td>2005</td>\n",
       "      <td>No</td>\n",
       "    </tr>\n",
       "    <tr>\n",
       "      <th>3</th>\n",
       "      <td>200501BS00004</td>\n",
       "      <td>A</td>\n",
       "      <td>3220.0</td>\n",
       "      <td>NaN</td>\n",
       "      <td>0.0</td>\n",
       "      <td>Slight</td>\n",
       "      <td>None</td>\n",
       "      <td>2005-01-07</td>\n",
       "      <td>Friday</td>\n",
       "      <td>1.0</td>\n",
       "      <td>Data missing or out of range</td>\n",
       "      <td>Not at junction or within 20 metres</td>\n",
       "      <td>51.482442</td>\n",
       "      <td>Daylight</td>\n",
       "      <td>Kensington and Chelsea</td>\n",
       "      <td>Kensington and Chelsea</td>\n",
       "      <td>526900.0</td>\n",
       "      <td>177530.0</td>\n",
       "      <td>-0.173862</td>\n",
       "      <td>E01002840</td>\n",
       "      <td>1</td>\n",
       "      <td>1</td>\n",
       "      <td>0.0</td>\n",
       "      <td>0.0</td>\n",
       "      <td>Metropolitan Police</td>\n",
       "      <td>Dry</td>\n",
       "      <td>Single carriageway</td>\n",
       "      <td>None</td>\n",
       "      <td>30.0</td>\n",
       "      <td>10:35</td>\n",
       "      <td>Urban</td>\n",
       "      <td>Fine no high winds</td>\n",
       "      <td>2005</td>\n",
       "      <td>No</td>\n",
       "    </tr>\n",
       "    <tr>\n",
       "      <th>4</th>\n",
       "      <td>200501BS00005</td>\n",
       "      <td>Unclassified</td>\n",
       "      <td>0.0</td>\n",
       "      <td>NaN</td>\n",
       "      <td>0.0</td>\n",
       "      <td>Slight</td>\n",
       "      <td>None</td>\n",
       "      <td>2005-01-10</td>\n",
       "      <td>Monday</td>\n",
       "      <td>1.0</td>\n",
       "      <td>Data missing or out of range</td>\n",
       "      <td>Not at junction or within 20 metres</td>\n",
       "      <td>51.495752</td>\n",
       "      <td>Darkness - lighting unknown</td>\n",
       "      <td>Kensington and Chelsea</td>\n",
       "      <td>Kensington and Chelsea</td>\n",
       "      <td>528060.0</td>\n",
       "      <td>179040.0</td>\n",
       "      <td>-0.156618</td>\n",
       "      <td>E01002863</td>\n",
       "      <td>1</td>\n",
       "      <td>1</td>\n",
       "      <td>0.0</td>\n",
       "      <td>0.0</td>\n",
       "      <td>Metropolitan Police</td>\n",
       "      <td>Wet or damp</td>\n",
       "      <td>Single carriageway</td>\n",
       "      <td>None</td>\n",
       "      <td>30.0</td>\n",
       "      <td>21:13</td>\n",
       "      <td>Urban</td>\n",
       "      <td>Fine no high winds</td>\n",
       "      <td>2005</td>\n",
       "      <td>No</td>\n",
       "    </tr>\n",
       "  </tbody>\n",
       "</table>\n",
       "</div>"
      ],
      "text/plain": [
       "  Accident_Index 1st_Road_Class  1st_Road_Number 2nd_Road_Class  \\\n",
       "0  200501BS00001              A           3218.0            NaN   \n",
       "1  200501BS00002              B            450.0              C   \n",
       "2  200501BS00003              C              0.0            NaN   \n",
       "3  200501BS00004              A           3220.0            NaN   \n",
       "4  200501BS00005   Unclassified              0.0            NaN   \n",
       "\n",
       "   2nd_Road_Number Accident_Severity Carriageway_Hazards        Date  \\\n",
       "0              0.0           Serious                None  2005-01-04   \n",
       "1              0.0            Slight                None  2005-01-05   \n",
       "2              0.0            Slight                None  2005-01-06   \n",
       "3              0.0            Slight                None  2005-01-07   \n",
       "4              0.0            Slight                None  2005-01-10   \n",
       "\n",
       "  Day_of_Week  Did_Police_Officer_Attend_Scene_of_Accident  \\\n",
       "0     Tuesday                                          1.0   \n",
       "1   Wednesday                                          1.0   \n",
       "2    Thursday                                          1.0   \n",
       "3      Friday                                          1.0   \n",
       "4      Monday                                          1.0   \n",
       "\n",
       "               Junction_Control                      Junction_Detail  \\\n",
       "0  Data missing or out of range  Not at junction or within 20 metres   \n",
       "1           Auto traffic signal                           Crossroads   \n",
       "2  Data missing or out of range  Not at junction or within 20 metres   \n",
       "3  Data missing or out of range  Not at junction or within 20 metres   \n",
       "4  Data missing or out of range  Not at junction or within 20 metres   \n",
       "\n",
       "    Latitude             Light_Conditions Local_Authority_(District)  \\\n",
       "0  51.489096                     Daylight     Kensington and Chelsea   \n",
       "1  51.520075        Darkness - lights lit     Kensington and Chelsea   \n",
       "2  51.525301        Darkness - lights lit     Kensington and Chelsea   \n",
       "3  51.482442                     Daylight     Kensington and Chelsea   \n",
       "4  51.495752  Darkness - lighting unknown     Kensington and Chelsea   \n",
       "\n",
       "  Local_Authority_(Highway)  Location_Easting_OSGR  Location_Northing_OSGR  \\\n",
       "0    Kensington and Chelsea               525680.0                178240.0   \n",
       "1    Kensington and Chelsea               524170.0                181650.0   \n",
       "2    Kensington and Chelsea               524520.0                182240.0   \n",
       "3    Kensington and Chelsea               526900.0                177530.0   \n",
       "4    Kensington and Chelsea               528060.0                179040.0   \n",
       "\n",
       "   Longitude LSOA_of_Accident_Location  Number_of_Casualties  \\\n",
       "0  -0.191170                 E01002849                     1   \n",
       "1  -0.211708                 E01002909                     1   \n",
       "2  -0.206458                 E01002857                     1   \n",
       "3  -0.173862                 E01002840                     1   \n",
       "4  -0.156618                 E01002863                     1   \n",
       "\n",
       "   Number_of_Vehicles  Pedestrian_Crossing-Human_Control  \\\n",
       "0                   1                                0.0   \n",
       "1                   1                                0.0   \n",
       "2                   2                                0.0   \n",
       "3                   1                                0.0   \n",
       "4                   1                                0.0   \n",
       "\n",
       "   Pedestrian_Crossing-Physical_Facilities         Police_Force  \\\n",
       "0                                      1.0  Metropolitan Police   \n",
       "1                                      5.0  Metropolitan Police   \n",
       "2                                      0.0  Metropolitan Police   \n",
       "3                                      0.0  Metropolitan Police   \n",
       "4                                      0.0  Metropolitan Police   \n",
       "\n",
       "  Road_Surface_Conditions           Road_Type Special_Conditions_at_Site  \\\n",
       "0             Wet or damp  Single carriageway                       None   \n",
       "1                     Dry    Dual carriageway                       None   \n",
       "2                     Dry  Single carriageway                       None   \n",
       "3                     Dry  Single carriageway                       None   \n",
       "4             Wet or damp  Single carriageway                       None   \n",
       "\n",
       "   Speed_limit   Time Urban_or_Rural_Area     Weather_Conditions  Year  \\\n",
       "0         30.0  17:42               Urban  Raining no high winds  2005   \n",
       "1         30.0  17:36               Urban     Fine no high winds  2005   \n",
       "2         30.0  00:15               Urban     Fine no high winds  2005   \n",
       "3         30.0  10:35               Urban     Fine no high winds  2005   \n",
       "4         30.0  21:13               Urban     Fine no high winds  2005   \n",
       "\n",
       "  InScotland  \n",
       "0         No  \n",
       "1         No  \n",
       "2         No  \n",
       "3         No  \n",
       "4         No  "
      ]
     },
     "execution_count": 2,
     "metadata": {},
     "output_type": "execute_result"
    }
   ],
   "source": [
    "a=pd.read_csv('Accident_Information.csv')\n",
    "a.head()"
   ]
  },
  {
   "cell_type": "code",
   "execution_count": 3,
   "id": "63ab7fc9",
   "metadata": {},
   "outputs": [
    {
     "name": "stdout",
     "output_type": "stream",
     "text": [
      "<class 'pandas.core.frame.DataFrame'>\n",
      "RangeIndex: 2047256 entries, 0 to 2047255\n",
      "Data columns (total 34 columns):\n",
      " #   Column                                       Dtype  \n",
      "---  ------                                       -----  \n",
      " 0   Accident_Index                               object \n",
      " 1   1st_Road_Class                               object \n",
      " 2   1st_Road_Number                              float64\n",
      " 3   2nd_Road_Class                               object \n",
      " 4   2nd_Road_Number                              float64\n",
      " 5   Accident_Severity                            object \n",
      " 6   Carriageway_Hazards                          object \n",
      " 7   Date                                         object \n",
      " 8   Day_of_Week                                  object \n",
      " 9   Did_Police_Officer_Attend_Scene_of_Accident  float64\n",
      " 10  Junction_Control                             object \n",
      " 11  Junction_Detail                              object \n",
      " 12  Latitude                                     float64\n",
      " 13  Light_Conditions                             object \n",
      " 14  Local_Authority_(District)                   object \n",
      " 15  Local_Authority_(Highway)                    object \n",
      " 16  Location_Easting_OSGR                        float64\n",
      " 17  Location_Northing_OSGR                       float64\n",
      " 18  Longitude                                    float64\n",
      " 19  LSOA_of_Accident_Location                    object \n",
      " 20  Number_of_Casualties                         int64  \n",
      " 21  Number_of_Vehicles                           int64  \n",
      " 22  Pedestrian_Crossing-Human_Control            float64\n",
      " 23  Pedestrian_Crossing-Physical_Facilities      float64\n",
      " 24  Police_Force                                 object \n",
      " 25  Road_Surface_Conditions                      object \n",
      " 26  Road_Type                                    object \n",
      " 27  Special_Conditions_at_Site                   object \n",
      " 28  Speed_limit                                  float64\n",
      " 29  Time                                         object \n",
      " 30  Urban_or_Rural_Area                          object \n",
      " 31  Weather_Conditions                           object \n",
      " 32  Year                                         int64  \n",
      " 33  InScotland                                   object \n",
      "dtypes: float64(10), int64(3), object(21)\n",
      "memory usage: 531.1+ MB\n"
     ]
    }
   ],
   "source": [
    "a.info()"
   ]
  },
  {
   "cell_type": "code",
   "execution_count": 4,
   "id": "7c7c5ea3",
   "metadata": {},
   "outputs": [
    {
     "data": {
      "text/html": [
       "<div>\n",
       "<style scoped>\n",
       "    .dataframe tbody tr th:only-of-type {\n",
       "        vertical-align: middle;\n",
       "    }\n",
       "\n",
       "    .dataframe tbody tr th {\n",
       "        vertical-align: top;\n",
       "    }\n",
       "\n",
       "    .dataframe thead th {\n",
       "        text-align: right;\n",
       "    }\n",
       "</style>\n",
       "<table border=\"1\" class=\"dataframe\">\n",
       "  <thead>\n",
       "    <tr style=\"text-align: right;\">\n",
       "      <th></th>\n",
       "      <th>1st_Road_Number</th>\n",
       "      <th>2nd_Road_Number</th>\n",
       "      <th>Did_Police_Officer_Attend_Scene_of_Accident</th>\n",
       "      <th>Latitude</th>\n",
       "      <th>Location_Easting_OSGR</th>\n",
       "      <th>Location_Northing_OSGR</th>\n",
       "      <th>Longitude</th>\n",
       "      <th>Number_of_Casualties</th>\n",
       "      <th>Number_of_Vehicles</th>\n",
       "      <th>Pedestrian_Crossing-Human_Control</th>\n",
       "      <th>Pedestrian_Crossing-Physical_Facilities</th>\n",
       "      <th>Speed_limit</th>\n",
       "      <th>Year</th>\n",
       "    </tr>\n",
       "  </thead>\n",
       "  <tbody>\n",
       "    <tr>\n",
       "      <th>count</th>\n",
       "      <td>2.047254e+06</td>\n",
       "      <td>2.029663e+06</td>\n",
       "      <td>2.046978e+06</td>\n",
       "      <td>2.047082e+06</td>\n",
       "      <td>2.047092e+06</td>\n",
       "      <td>2.047092e+06</td>\n",
       "      <td>2.047081e+06</td>\n",
       "      <td>2.047256e+06</td>\n",
       "      <td>2.047256e+06</td>\n",
       "      <td>2.044336e+06</td>\n",
       "      <td>2.043696e+06</td>\n",
       "      <td>2.047219e+06</td>\n",
       "      <td>2.047256e+06</td>\n",
       "    </tr>\n",
       "    <tr>\n",
       "      <th>mean</th>\n",
       "      <td>9.921051e+02</td>\n",
       "      <td>3.728153e+02</td>\n",
       "      <td>1.202319e+00</td>\n",
       "      <td>5.255978e+01</td>\n",
       "      <td>4.414462e+05</td>\n",
       "      <td>2.968855e+05</td>\n",
       "      <td>-1.410155e+00</td>\n",
       "      <td>1.345843e+00</td>\n",
       "      <td>1.833525e+00</td>\n",
       "      <td>1.041707e-02</td>\n",
       "      <td>7.518021e-01</td>\n",
       "      <td>3.884360e+01</td>\n",
       "      <td>2.010524e+03</td>\n",
       "    </tr>\n",
       "    <tr>\n",
       "      <th>std</th>\n",
       "      <td>1.809408e+03</td>\n",
       "      <td>1.287796e+03</td>\n",
       "      <td>4.081935e-01</td>\n",
       "      <td>1.445506e+00</td>\n",
       "      <td>9.549620e+04</td>\n",
       "      <td>1.605273e+05</td>\n",
       "      <td>1.403532e+00</td>\n",
       "      <td>8.179627e-01</td>\n",
       "      <td>7.150543e-01</td>\n",
       "      <td>1.351126e-01</td>\n",
       "      <td>1.835289e+00</td>\n",
       "      <td>1.414791e+01</td>\n",
       "      <td>3.765624e+00</td>\n",
       "    </tr>\n",
       "    <tr>\n",
       "      <th>min</th>\n",
       "      <td>0.000000e+00</td>\n",
       "      <td>0.000000e+00</td>\n",
       "      <td>1.000000e+00</td>\n",
       "      <td>4.991294e+01</td>\n",
       "      <td>6.495000e+04</td>\n",
       "      <td>1.029000e+04</td>\n",
       "      <td>-7.516225e+00</td>\n",
       "      <td>1.000000e+00</td>\n",
       "      <td>1.000000e+00</td>\n",
       "      <td>0.000000e+00</td>\n",
       "      <td>0.000000e+00</td>\n",
       "      <td>0.000000e+00</td>\n",
       "      <td>2.005000e+03</td>\n",
       "    </tr>\n",
       "    <tr>\n",
       "      <th>25%</th>\n",
       "      <td>0.000000e+00</td>\n",
       "      <td>0.000000e+00</td>\n",
       "      <td>1.000000e+00</td>\n",
       "      <td>5.148540e+01</td>\n",
       "      <td>3.780635e+05</td>\n",
       "      <td>1.777568e+05</td>\n",
       "      <td>-2.329610e+00</td>\n",
       "      <td>1.000000e+00</td>\n",
       "      <td>1.000000e+00</td>\n",
       "      <td>0.000000e+00</td>\n",
       "      <td>0.000000e+00</td>\n",
       "      <td>3.000000e+01</td>\n",
       "      <td>2.007000e+03</td>\n",
       "    </tr>\n",
       "    <tr>\n",
       "      <th>50%</th>\n",
       "      <td>1.180000e+02</td>\n",
       "      <td>0.000000e+00</td>\n",
       "      <td>1.000000e+00</td>\n",
       "      <td>5.223758e+01</td>\n",
       "      <td>4.430500e+05</td>\n",
       "      <td>2.611835e+05</td>\n",
       "      <td>-1.362233e+00</td>\n",
       "      <td>1.000000e+00</td>\n",
       "      <td>2.000000e+00</td>\n",
       "      <td>0.000000e+00</td>\n",
       "      <td>0.000000e+00</td>\n",
       "      <td>3.000000e+01</td>\n",
       "      <td>2.010000e+03</td>\n",
       "    </tr>\n",
       "    <tr>\n",
       "      <th>75%</th>\n",
       "      <td>7.020000e+02</td>\n",
       "      <td>0.000000e+00</td>\n",
       "      <td>1.000000e+00</td>\n",
       "      <td>5.345590e+01</td>\n",
       "      <td>5.242982e+05</td>\n",
       "      <td>3.956100e+05</td>\n",
       "      <td>-2.052600e-01</td>\n",
       "      <td>1.000000e+00</td>\n",
       "      <td>2.000000e+00</td>\n",
       "      <td>0.000000e+00</td>\n",
       "      <td>0.000000e+00</td>\n",
       "      <td>5.000000e+01</td>\n",
       "      <td>2.014000e+03</td>\n",
       "    </tr>\n",
       "    <tr>\n",
       "      <th>max</th>\n",
       "      <td>9.999000e+03</td>\n",
       "      <td>9.999000e+03</td>\n",
       "      <td>3.000000e+00</td>\n",
       "      <td>6.075754e+01</td>\n",
       "      <td>6.555400e+05</td>\n",
       "      <td>1.208800e+06</td>\n",
       "      <td>1.762010e+00</td>\n",
       "      <td>9.300000e+01</td>\n",
       "      <td>6.700000e+01</td>\n",
       "      <td>2.000000e+00</td>\n",
       "      <td>8.000000e+00</td>\n",
       "      <td>7.000000e+01</td>\n",
       "      <td>2.017000e+03</td>\n",
       "    </tr>\n",
       "  </tbody>\n",
       "</table>\n",
       "</div>"
      ],
      "text/plain": [
       "       1st_Road_Number  2nd_Road_Number  \\\n",
       "count     2.047254e+06     2.029663e+06   \n",
       "mean      9.921051e+02     3.728153e+02   \n",
       "std       1.809408e+03     1.287796e+03   \n",
       "min       0.000000e+00     0.000000e+00   \n",
       "25%       0.000000e+00     0.000000e+00   \n",
       "50%       1.180000e+02     0.000000e+00   \n",
       "75%       7.020000e+02     0.000000e+00   \n",
       "max       9.999000e+03     9.999000e+03   \n",
       "\n",
       "       Did_Police_Officer_Attend_Scene_of_Accident      Latitude  \\\n",
       "count                                 2.046978e+06  2.047082e+06   \n",
       "mean                                  1.202319e+00  5.255978e+01   \n",
       "std                                   4.081935e-01  1.445506e+00   \n",
       "min                                   1.000000e+00  4.991294e+01   \n",
       "25%                                   1.000000e+00  5.148540e+01   \n",
       "50%                                   1.000000e+00  5.223758e+01   \n",
       "75%                                   1.000000e+00  5.345590e+01   \n",
       "max                                   3.000000e+00  6.075754e+01   \n",
       "\n",
       "       Location_Easting_OSGR  Location_Northing_OSGR     Longitude  \\\n",
       "count           2.047092e+06            2.047092e+06  2.047081e+06   \n",
       "mean            4.414462e+05            2.968855e+05 -1.410155e+00   \n",
       "std             9.549620e+04            1.605273e+05  1.403532e+00   \n",
       "min             6.495000e+04            1.029000e+04 -7.516225e+00   \n",
       "25%             3.780635e+05            1.777568e+05 -2.329610e+00   \n",
       "50%             4.430500e+05            2.611835e+05 -1.362233e+00   \n",
       "75%             5.242982e+05            3.956100e+05 -2.052600e-01   \n",
       "max             6.555400e+05            1.208800e+06  1.762010e+00   \n",
       "\n",
       "       Number_of_Casualties  Number_of_Vehicles  \\\n",
       "count          2.047256e+06        2.047256e+06   \n",
       "mean           1.345843e+00        1.833525e+00   \n",
       "std            8.179627e-01        7.150543e-01   \n",
       "min            1.000000e+00        1.000000e+00   \n",
       "25%            1.000000e+00        1.000000e+00   \n",
       "50%            1.000000e+00        2.000000e+00   \n",
       "75%            1.000000e+00        2.000000e+00   \n",
       "max            9.300000e+01        6.700000e+01   \n",
       "\n",
       "       Pedestrian_Crossing-Human_Control  \\\n",
       "count                       2.044336e+06   \n",
       "mean                        1.041707e-02   \n",
       "std                         1.351126e-01   \n",
       "min                         0.000000e+00   \n",
       "25%                         0.000000e+00   \n",
       "50%                         0.000000e+00   \n",
       "75%                         0.000000e+00   \n",
       "max                         2.000000e+00   \n",
       "\n",
       "       Pedestrian_Crossing-Physical_Facilities   Speed_limit          Year  \n",
       "count                             2.043696e+06  2.047219e+06  2.047256e+06  \n",
       "mean                              7.518021e-01  3.884360e+01  2.010524e+03  \n",
       "std                               1.835289e+00  1.414791e+01  3.765624e+00  \n",
       "min                               0.000000e+00  0.000000e+00  2.005000e+03  \n",
       "25%                               0.000000e+00  3.000000e+01  2.007000e+03  \n",
       "50%                               0.000000e+00  3.000000e+01  2.010000e+03  \n",
       "75%                               0.000000e+00  5.000000e+01  2.014000e+03  \n",
       "max                               8.000000e+00  7.000000e+01  2.017000e+03  "
      ]
     },
     "execution_count": 4,
     "metadata": {},
     "output_type": "execute_result"
    }
   ],
   "source": [
    "a.describe()\n",
    "\n"
   ]
  },
  {
   "cell_type": "code",
   "execution_count": 5,
   "id": "d4524861",
   "metadata": {},
   "outputs": [],
   "source": [
    "a.Time = a.Time.astype(str)"
   ]
  },
  {
   "cell_type": "code",
   "execution_count": 6,
   "id": "774ca02e",
   "metadata": {},
   "outputs": [],
   "source": [
    "from datetime import datetime"
   ]
  },
  {
   "cell_type": "code",
   "execution_count": 7,
   "id": "97cd82cb",
   "metadata": {},
   "outputs": [],
   "source": [
    "a['Time']=a['Time']+':00'"
   ]
  },
  {
   "cell_type": "code",
   "execution_count": 8,
   "id": "daff81cd",
   "metadata": {},
   "outputs": [],
   "source": [
    "a.Time = a.Time.astype(str)"
   ]
  },
  {
   "cell_type": "code",
   "execution_count": 9,
   "id": "342d6cd1",
   "metadata": {},
   "outputs": [
    {
     "data": {
      "text/plain": [
       "0          17:42:00\n",
       "1          17:36:00\n",
       "2          00:15:00\n",
       "3          10:35:00\n",
       "4          21:13:00\n",
       "             ...   \n",
       "2047251    11:30:00\n",
       "2047252    13:00:00\n",
       "2047253    13:30:00\n",
       "2047254    18:00:00\n",
       "2047255    13:00:00\n",
       "Name: Time, Length: 2047256, dtype: object"
      ]
     },
     "execution_count": 9,
     "metadata": {},
     "output_type": "execute_result"
    }
   ],
   "source": [
    "a['Time']"
   ]
  },
  {
   "cell_type": "code",
   "execution_count": 10,
   "id": "09c3308d",
   "metadata": {},
   "outputs": [],
   "source": [
    "a[['Hour', 'Minutes','Seconds']] = a['Time'].str.split(pat = ':', expand = True)"
   ]
  },
  {
   "cell_type": "code",
   "execution_count": 11,
   "id": "b0a1ed4c",
   "metadata": {},
   "outputs": [],
   "source": [
    "a['Date']=pd.to_datetime(a['Date'],format='%Y-%m-%d')"
   ]
  },
  {
   "cell_type": "code",
   "execution_count": 12,
   "id": "943ed93c",
   "metadata": {},
   "outputs": [],
   "source": [
    "a['Date']=pd.to_datetime(a['Date'],format='%Y-%m-%d')"
   ]
  },
  {
   "cell_type": "code",
   "execution_count": 13,
   "id": "978157b7",
   "metadata": {},
   "outputs": [],
   "source": [
    "#Dropping null values in Time column\n",
    "a=a.dropna(subset=['Time'],how='all')"
   ]
  },
  {
   "cell_type": "code",
   "execution_count": 14,
   "id": "424ee607",
   "metadata": {},
   "outputs": [],
   "source": [
    "#Filling null with Mode\n",
    "a['Did_Police_Officer_Attend_Scene_of_Accident']=a['Did_Police_Officer_Attend_Scene_of_Accident'].fillna(a['Did_Police_Officer_Attend_Scene_of_Accident'].mode()[0])"
   ]
  },
  {
   "cell_type": "code",
   "execution_count": 15,
   "id": "da89bcd3",
   "metadata": {},
   "outputs": [],
   "source": [
    "#Dropping null in Speed_Limit\n",
    "a=a.dropna(subset=['Speed_limit'],how='all')"
   ]
  },
  {
   "cell_type": "code",
   "execution_count": 16,
   "id": "03317fb7",
   "metadata": {},
   "outputs": [],
   "source": [
    "a=a.dropna(subset=['Hour'],how='all')"
   ]
  },
  {
   "cell_type": "code",
   "execution_count": 17,
   "id": "cf6417ce",
   "metadata": {},
   "outputs": [
    {
     "data": {
      "text/plain": [
       "2nd_Road_Class                                 844240\n",
       "LSOA_of_Accident_Location                      144952\n",
       "2nd_Road_Number                                 17582\n",
       "Pedestrian_Crossing-Physical_Facilities          3557\n",
       "Pedestrian_Crossing-Human_Control                2917\n",
       "Longitude                                         175\n",
       "Latitude                                          174\n",
       "Location_Northing_OSGR                            164\n",
       "Location_Easting_OSGR                             164\n",
       "Seconds                                           156\n",
       "InScotland                                         53\n",
       "1st_Road_Number                                     2\n",
       "Police_Force                                        0\n",
       "Minutes                                             0\n",
       "Hour                                                0\n",
       "Year                                                0\n",
       "Weather_Conditions                                  0\n",
       "Urban_or_Rural_Area                                 0\n",
       "Time                                                0\n",
       "Speed_limit                                         0\n",
       "Special_Conditions_at_Site                          0\n",
       "Road_Type                                           0\n",
       "Road_Surface_Conditions                             0\n",
       "Junction_Control                                    0\n",
       "Junction_Detail                                     0\n",
       "Accident_Severity                                   0\n",
       "Number_of_Vehicles                                  0\n",
       "Number_of_Casualties                                0\n",
       "Carriageway_Hazards                                 0\n",
       "1st_Road_Class                                      0\n",
       "Date                                                0\n",
       "Day_of_Week                                         0\n",
       "Local_Authority_(Highway)                           0\n",
       "Local_Authority_(District)                          0\n",
       "Light_Conditions                                    0\n",
       "Did_Police_Officer_Attend_Scene_of_Accident         0\n",
       "Accident_Index                                      0\n",
       "dtype: int64"
      ]
     },
     "execution_count": 17,
     "metadata": {},
     "output_type": "execute_result"
    }
   ],
   "source": [
    "a.isnull().sum().sort_values(ascending=False)"
   ]
  },
  {
   "cell_type": "code",
   "execution_count": 18,
   "id": "c0228c75",
   "metadata": {},
   "outputs": [],
   "source": [
    "#Dropping the Unallocated rows from Urban por Rural Area\n",
    "a=a[a['Urban_or_Rural_Area'] !='Unallocated']"
   ]
  },
  {
   "cell_type": "code",
   "execution_count": 19,
   "id": "788afe22",
   "metadata": {},
   "outputs": [
    {
     "data": {
      "image/png": "[encoded data removed]",
      "text/plain": [
       "<Figure size 432x288 with 1 Axes>"
      ]
     },
     "metadata": {
      "needs_background": "light"
     },
     "output_type": "display_data"
    }
   ],
   "source": [
    "# Outlier Detection\n",
    "sns.boxplot(x=a['Number_of_Vehicles'] )\n",
    "plt.show()\n"
   ]
  },
  {
   "cell_type": "code",
   "execution_count": 20,
   "id": "b320b8b8",
   "metadata": {},
   "outputs": [],
   "source": [
    "#Limited the Number of Vehicles upto 6\n",
    "a=a[a['Number_of_Vehicles']<7]"
   ]
  },
  {
   "cell_type": "code",
   "execution_count": 21,
   "id": "6fe0d2d8",
   "metadata": {},
   "outputs": [],
   "source": [
    "#Limiting Number of Casualties upto 7\n",
    "a=a[a['Number_of_Casualties']<8]"
   ]
  },
  {
   "cell_type": "code",
   "execution_count": 22,
   "id": "ed32d5a2",
   "metadata": {},
   "outputs": [],
   "source": [
    "a=a[a['Hour']!='nan']"
   ]
  },
  {
   "cell_type": "code",
   "execution_count": 23,
   "id": "99d5d588",
   "metadata": {},
   "outputs": [],
   "source": [
    "#dropping 'data missing or out of range' from Road Surface Condition\n",
    "a=a[a['Road_Surface_Conditions']!='Data missing or out of range']"
   ]
  },
  {
   "cell_type": "code",
   "execution_count": 24,
   "id": "5627e564",
   "metadata": {
    "scrolled": true
   },
   "outputs": [
    {
     "data": {
      "image/png": "[encoded data removed]",
      "text/plain": [
       "<Figure size 432x288 with 1 Axes>"
      ]
     },
     "metadata": {
      "needs_background": "light"
     },
     "output_type": "display_data"
    }
   ],
   "source": [
    "sns.boxplot(x=a['Speed_limit'] )\n",
    "plt.show()"
   ]
  },
  {
   "cell_type": "code",
   "execution_count": 25,
   "id": "9870e4af",
   "metadata": {},
   "outputs": [
    {
     "name": "stderr",
     "output_type": "stream",
     "text": [
      "C:\\Users\\Somna\\anaconda3\\lib\\site-packages\\seaborn\\distributions.py:2619: FutureWarning: `distplot` is a deprecated function and will be removed in a future version. Please adapt your code to use either `displot` (a figure-level function with similar flexibility) or `histplot` (an axes-level function for histograms).\n",
      "  warnings.warn(msg, FutureWarning)\n"
     ]
    },
    {
     "data": {
      "image/png": "[encoded data removed]",
      "text/plain": [
       "<Figure size 432x288 with 1 Axes>"
      ]
     },
     "metadata": {
      "needs_background": "light"
     },
     "output_type": "display_data"
    }
   ],
   "source": [
    "sns.distplot(a['Year'],kde=False)\n",
    "plt.show()"
   ]
  },
  {
   "cell_type": "code",
   "execution_count": null,
   "id": "335d7253",
   "metadata": {},
   "outputs": [],
   "source": []
  },
  {
   "cell_type": "code",
   "execution_count": 26,
   "id": "791bde78",
   "metadata": {},
   "outputs": [
    {
     "data": {
      "text/plain": [
       "<AxesSubplot:xlabel='Day_of_Week', ylabel='Accident_Index'>"
      ]
     },
     "execution_count": 26,
     "metadata": {},
     "output_type": "execute_result"
    },
    {
     "data": {
      "image/png": "[encoded data removed]",
      "text/plain": [
       "<Figure size 720x504 with 1 Axes>"
      ]
     },
     "metadata": {
      "needs_background": "light"
     },
     "output_type": "display_data"
    }
   ],
   "source": [
    "# Number of Accidents in Day of Week \n",
    "fig, ax = plt.subplots(figsize=(10, 7))\n",
    "ha=a.groupby(['Day_of_Week'])['Accident_Index'].count().sort_values(ascending=False).reset_index()\n",
    "plt.rcParams[\"axes.labelsize\"] = 20\n",
    "\n",
    "sns.barplot(data=ha,x='Day_of_Week',y='Accident_Index')"
   ]
  },
  {
   "cell_type": "code",
   "execution_count": 27,
   "id": "2619c95c",
   "metadata": {},
   "outputs": [
    {
     "data": {
      "text/html": [
       "<div>\n",
       "<style scoped>\n",
       "    .dataframe tbody tr th:only-of-type {\n",
       "        vertical-align: middle;\n",
       "    }\n",
       "\n",
       "    .dataframe tbody tr th {\n",
       "        vertical-align: top;\n",
       "    }\n",
       "\n",
       "    .dataframe thead th {\n",
       "        text-align: right;\n",
       "    }\n",
       "</style>\n",
       "<table border=\"1\" class=\"dataframe\">\n",
       "  <thead>\n",
       "    <tr style=\"text-align: right;\">\n",
       "      <th></th>\n",
       "      <th>Urban_or_Rural_Area</th>\n",
       "      <th>Accident_Index</th>\n",
       "    </tr>\n",
       "  </thead>\n",
       "  <tbody>\n",
       "    <tr>\n",
       "      <th>0</th>\n",
       "      <td>Urban</td>\n",
       "      <td>1316928</td>\n",
       "    </tr>\n",
       "    <tr>\n",
       "      <th>1</th>\n",
       "      <td>Rural</td>\n",
       "      <td>721643</td>\n",
       "    </tr>\n",
       "  </tbody>\n",
       "</table>\n",
       "</div>"
      ],
      "text/plain": [
       "  Urban_or_Rural_Area  Accident_Index\n",
       "0               Urban         1316928\n",
       "1               Rural          721643"
      ]
     },
     "execution_count": 27,
     "metadata": {},
     "output_type": "execute_result"
    }
   ],
   "source": [
    "# Number of Accidents with respec to Urban And Rural Area\n",
    "hb=a.groupby(['Urban_or_Rural_Area'])['Accident_Index'].count().sort_values(ascending=False).reset_index()\n",
    "hb"
   ]
  },
  {
   "cell_type": "code",
   "execution_count": 28,
   "id": "23fa1715",
   "metadata": {},
   "outputs": [
    {
     "data": {
      "image/png": "[encoded data removed]",
      "text/plain": [
       "<Figure size 432x288 with 1 Axes>"
      ]
     },
     "metadata": {
      "needs_background": "light"
     },
     "output_type": "display_data"
    }
   ],
   "source": [
    "sns.barplot(y=hb['Accident_Index'],x=hb['Urban_or_Rural_Area'],data=hb)\n",
    "\n",
    "plt.ticklabel_format(style='plain', axis='y')\n",
    "plt.show()"
   ]
  },
  {
   "cell_type": "code",
   "execution_count": 29,
   "id": "35770572",
   "metadata": {},
   "outputs": [
    {
     "data": {
      "text/html": [
       "<div>\n",
       "<style scoped>\n",
       "    .dataframe tbody tr th:only-of-type {\n",
       "        vertical-align: middle;\n",
       "    }\n",
       "\n",
       "    .dataframe tbody tr th {\n",
       "        vertical-align: top;\n",
       "    }\n",
       "\n",
       "    .dataframe thead th {\n",
       "        text-align: right;\n",
       "    }\n",
       "</style>\n",
       "<table border=\"1\" class=\"dataframe\">\n",
       "  <thead>\n",
       "    <tr style=\"text-align: right;\">\n",
       "      <th></th>\n",
       "      <th>Road_Surface_Conditions</th>\n",
       "      <th>Accident_Index</th>\n",
       "    </tr>\n",
       "  </thead>\n",
       "  <tbody>\n",
       "    <tr>\n",
       "      <th>0</th>\n",
       "      <td>Dry</td>\n",
       "      <td>1415909</td>\n",
       "    </tr>\n",
       "    <tr>\n",
       "      <th>1</th>\n",
       "      <td>Wet or damp</td>\n",
       "      <td>567484</td>\n",
       "    </tr>\n",
       "    <tr>\n",
       "      <th>2</th>\n",
       "      <td>Frost or ice</td>\n",
       "      <td>40213</td>\n",
       "    </tr>\n",
       "    <tr>\n",
       "      <th>3</th>\n",
       "      <td>Snow</td>\n",
       "      <td>12127</td>\n",
       "    </tr>\n",
       "    <tr>\n",
       "      <th>4</th>\n",
       "      <td>Flood over 3cm. deep</td>\n",
       "      <td>2838</td>\n",
       "    </tr>\n",
       "  </tbody>\n",
       "</table>\n",
       "</div>"
      ],
      "text/plain": [
       "  Road_Surface_Conditions  Accident_Index\n",
       "0                     Dry         1415909\n",
       "1             Wet or damp          567484\n",
       "2            Frost or ice           40213\n",
       "3                    Snow           12127\n",
       "4    Flood over 3cm. deep            2838"
      ]
     },
     "execution_count": 29,
     "metadata": {},
     "output_type": "execute_result"
    }
   ],
   "source": [
    "#Accidents in road surface\n",
    "hc=a.groupby(['Road_Surface_Conditions'])['Accident_Index'].count().sort_values(ascending=False).reset_index()\n",
    "hc"
   ]
  },
  {
   "cell_type": "code",
   "execution_count": 30,
   "id": "e2afcf5f",
   "metadata": {},
   "outputs": [
    {
     "data": {
      "image/png": "[encoded data removed]",
      "text/plain": [
       "<Figure size 720x504 with 1 Axes>"
      ]
     },
     "metadata": {
      "needs_background": "light"
     },
     "output_type": "display_data"
    }
   ],
   "source": [
    "fig, ax = plt.subplots(figsize=(10, 7))\n",
    "sns.lineplot(data=hc,x='Road_Surface_Conditions',y='Accident_Index')\n",
    "\n",
    "plt.ticklabel_format(style='plain',axis='y')\n",
    "plt.show()"
   ]
  },
  {
   "cell_type": "code",
   "execution_count": 31,
   "id": "e9919cbb",
   "metadata": {},
   "outputs": [
    {
     "data": {
      "text/html": [
       "<div>\n",
       "<style scoped>\n",
       "    .dataframe tbody tr th:only-of-type {\n",
       "        vertical-align: middle;\n",
       "    }\n",
       "\n",
       "    .dataframe tbody tr th {\n",
       "        vertical-align: top;\n",
       "    }\n",
       "\n",
       "    .dataframe thead th {\n",
       "        text-align: right;\n",
       "    }\n",
       "</style>\n",
       "<table border=\"1\" class=\"dataframe\">\n",
       "  <thead>\n",
       "    <tr style=\"text-align: right;\">\n",
       "      <th></th>\n",
       "      <th>Urban_or_Rural_Area</th>\n",
       "      <th>Day_of_Week</th>\n",
       "      <th>Accident_Index</th>\n",
       "    </tr>\n",
       "  </thead>\n",
       "  <tbody>\n",
       "    <tr>\n",
       "      <th>0</th>\n",
       "      <td>Urban</td>\n",
       "      <td>Friday</td>\n",
       "      <td>218038</td>\n",
       "    </tr>\n",
       "    <tr>\n",
       "      <th>1</th>\n",
       "      <td>Urban</td>\n",
       "      <td>Wednesday</td>\n",
       "      <td>202110</td>\n",
       "    </tr>\n",
       "    <tr>\n",
       "      <th>2</th>\n",
       "      <td>Urban</td>\n",
       "      <td>Thursday</td>\n",
       "      <td>201640</td>\n",
       "    </tr>\n",
       "    <tr>\n",
       "      <th>3</th>\n",
       "      <td>Urban</td>\n",
       "      <td>Tuesday</td>\n",
       "      <td>200993</td>\n",
       "    </tr>\n",
       "    <tr>\n",
       "      <th>4</th>\n",
       "      <td>Urban</td>\n",
       "      <td>Monday</td>\n",
       "      <td>187955</td>\n",
       "    </tr>\n",
       "    <tr>\n",
       "      <th>5</th>\n",
       "      <td>Urban</td>\n",
       "      <td>Saturday</td>\n",
       "      <td>173378</td>\n",
       "    </tr>\n",
       "    <tr>\n",
       "      <th>6</th>\n",
       "      <td>Urban</td>\n",
       "      <td>Sunday</td>\n",
       "      <td>132814</td>\n",
       "    </tr>\n",
       "    <tr>\n",
       "      <th>7</th>\n",
       "      <td>Rural</td>\n",
       "      <td>Friday</td>\n",
       "      <td>115725</td>\n",
       "    </tr>\n",
       "    <tr>\n",
       "      <th>8</th>\n",
       "      <td>Rural</td>\n",
       "      <td>Thursday</td>\n",
       "      <td>105330</td>\n",
       "    </tr>\n",
       "    <tr>\n",
       "      <th>9</th>\n",
       "      <td>Rural</td>\n",
       "      <td>Wednesday</td>\n",
       "      <td>105158</td>\n",
       "    </tr>\n",
       "    <tr>\n",
       "      <th>10</th>\n",
       "      <td>Rural</td>\n",
       "      <td>Tuesday</td>\n",
       "      <td>104021</td>\n",
       "    </tr>\n",
       "    <tr>\n",
       "      <th>11</th>\n",
       "      <td>Rural</td>\n",
       "      <td>Monday</td>\n",
       "      <td>101309</td>\n",
       "    </tr>\n",
       "    <tr>\n",
       "      <th>12</th>\n",
       "      <td>Rural</td>\n",
       "      <td>Saturday</td>\n",
       "      <td>98602</td>\n",
       "    </tr>\n",
       "    <tr>\n",
       "      <th>13</th>\n",
       "      <td>Rural</td>\n",
       "      <td>Sunday</td>\n",
       "      <td>91498</td>\n",
       "    </tr>\n",
       "  </tbody>\n",
       "</table>\n",
       "</div>"
      ],
      "text/plain": [
       "   Urban_or_Rural_Area Day_of_Week  Accident_Index\n",
       "0                Urban      Friday          218038\n",
       "1                Urban   Wednesday          202110\n",
       "2                Urban    Thursday          201640\n",
       "3                Urban     Tuesday          200993\n",
       "4                Urban      Monday          187955\n",
       "5                Urban    Saturday          173378\n",
       "6                Urban      Sunday          132814\n",
       "7                Rural      Friday          115725\n",
       "8                Rural    Thursday          105330\n",
       "9                Rural   Wednesday          105158\n",
       "10               Rural     Tuesday          104021\n",
       "11               Rural      Monday          101309\n",
       "12               Rural    Saturday           98602\n",
       "13               Rural      Sunday           91498"
      ]
     },
     "execution_count": 31,
     "metadata": {},
     "output_type": "execute_result"
    }
   ],
   "source": [
    "hd=a.groupby(['Urban_or_Rural_Area','Day_of_Week'])['Accident_Index'].count().sort_values(ascending=False).reset_index()\n",
    "hd"
   ]
  },
  {
   "cell_type": "code",
   "execution_count": 32,
   "id": "cf4b5c28",
   "metadata": {},
   "outputs": [
    {
     "data": {
      "text/html": [
       "<div>\n",
       "<style scoped>\n",
       "    .dataframe tbody tr th:only-of-type {\n",
       "        vertical-align: middle;\n",
       "    }\n",
       "\n",
       "    .dataframe tbody tr th {\n",
       "        vertical-align: top;\n",
       "    }\n",
       "\n",
       "    .dataframe thead th {\n",
       "        text-align: right;\n",
       "    }\n",
       "</style>\n",
       "<table border=\"1\" class=\"dataframe\">\n",
       "  <thead>\n",
       "    <tr style=\"text-align: right;\">\n",
       "      <th></th>\n",
       "      <th>Month</th>\n",
       "      <th>Accident_Index</th>\n",
       "    </tr>\n",
       "  </thead>\n",
       "  <tbody>\n",
       "    <tr>\n",
       "      <th>0</th>\n",
       "      <td>11</td>\n",
       "      <td>186414</td>\n",
       "    </tr>\n",
       "    <tr>\n",
       "      <th>1</th>\n",
       "      <td>10</td>\n",
       "      <td>183216</td>\n",
       "    </tr>\n",
       "    <tr>\n",
       "      <th>2</th>\n",
       "      <td>7</td>\n",
       "      <td>179164</td>\n",
       "    </tr>\n",
       "    <tr>\n",
       "      <th>3</th>\n",
       "      <td>9</td>\n",
       "      <td>175287</td>\n",
       "    </tr>\n",
       "    <tr>\n",
       "      <th>4</th>\n",
       "      <td>6</td>\n",
       "      <td>172709</td>\n",
       "    </tr>\n",
       "    <tr>\n",
       "      <th>5</th>\n",
       "      <td>5</td>\n",
       "      <td>172386</td>\n",
       "    </tr>\n",
       "    <tr>\n",
       "      <th>6</th>\n",
       "      <td>8</td>\n",
       "      <td>166924</td>\n",
       "    </tr>\n",
       "    <tr>\n",
       "      <th>7</th>\n",
       "      <td>12</td>\n",
       "      <td>166580</td>\n",
       "    </tr>\n",
       "    <tr>\n",
       "      <th>8</th>\n",
       "      <td>1</td>\n",
       "      <td>164283</td>\n",
       "    </tr>\n",
       "    <tr>\n",
       "      <th>9</th>\n",
       "      <td>3</td>\n",
       "      <td>163462</td>\n",
       "    </tr>\n",
       "    <tr>\n",
       "      <th>10</th>\n",
       "      <td>4</td>\n",
       "      <td>156718</td>\n",
       "    </tr>\n",
       "    <tr>\n",
       "      <th>11</th>\n",
       "      <td>2</td>\n",
       "      <td>151428</td>\n",
       "    </tr>\n",
       "  </tbody>\n",
       "</table>\n",
       "</div>"
      ],
      "text/plain": [
       "    Month  Accident_Index\n",
       "0      11          186414\n",
       "1      10          183216\n",
       "2       7          179164\n",
       "3       9          175287\n",
       "4       6          172709\n",
       "5       5          172386\n",
       "6       8          166924\n",
       "7      12          166580\n",
       "8       1          164283\n",
       "9       3          163462\n",
       "10      4          156718\n",
       "11      2          151428"
      ]
     },
     "execution_count": 32,
     "metadata": {},
     "output_type": "execute_result"
    }
   ],
   "source": [
    "#Number of Accidents with respect to Month\n",
    "a['Month']=a['Date'].dt.month\n",
    "\n",
    "he=a.groupby(['Month'])['Accident_Index'].count().sort_values(ascending=False).reset_index()\n",
    "he"
   ]
  },
  {
   "cell_type": "code",
   "execution_count": 33,
   "id": "e7b48daf",
   "metadata": {},
   "outputs": [
    {
     "data": {
      "image/png": "[encoded data removed]",
      "text/plain": [
       "<Figure size 720x504 with 1 Axes>"
      ]
     },
     "metadata": {
      "needs_background": "light"
     },
     "output_type": "display_data"
    }
   ],
   "source": [
    "fig, ax = plt.subplots(figsize=(10, 7))\n",
    "sns.barplot(x='Month',y='Accident_Index',data=he)\n",
    "\n",
    "plt.ticklabel_format(style='plain',axis='y')\n",
    "plt.show()"
   ]
  },
  {
   "cell_type": "code",
   "execution_count": 34,
   "id": "3d4456a2",
   "metadata": {},
   "outputs": [
    {
     "data": {
      "text/html": [
       "<div>\n",
       "<style scoped>\n",
       "    .dataframe tbody tr th:only-of-type {\n",
       "        vertical-align: middle;\n",
       "    }\n",
       "\n",
       "    .dataframe tbody tr th {\n",
       "        vertical-align: top;\n",
       "    }\n",
       "\n",
       "    .dataframe thead th {\n",
       "        text-align: right;\n",
       "    }\n",
       "</style>\n",
       "<table border=\"1\" class=\"dataframe\">\n",
       "  <thead>\n",
       "    <tr style=\"text-align: right;\">\n",
       "      <th></th>\n",
       "      <th>Accident_Severity</th>\n",
       "      <th>Number_of_Casualties</th>\n",
       "    </tr>\n",
       "  </thead>\n",
       "  <tbody>\n",
       "    <tr>\n",
       "      <th>0</th>\n",
       "      <td>Slight</td>\n",
       "      <td>2274363</td>\n",
       "    </tr>\n",
       "    <tr>\n",
       "      <th>1</th>\n",
       "      <td>Serious</td>\n",
       "      <td>405344</td>\n",
       "    </tr>\n",
       "    <tr>\n",
       "      <th>2</th>\n",
       "      <td>Fatal</td>\n",
       "      <td>46639</td>\n",
       "    </tr>\n",
       "  </tbody>\n",
       "</table>\n",
       "</div>"
      ],
      "text/plain": [
       "  Accident_Severity  Number_of_Casualties\n",
       "0            Slight               2274363\n",
       "1           Serious                405344\n",
       "2             Fatal                 46639"
      ]
     },
     "execution_count": 34,
     "metadata": {},
     "output_type": "execute_result"
    }
   ],
   "source": [
    "#Number of casualties with respect to Accident Severity\n",
    "hf=a.groupby(['Accident_Severity'])['Number_of_Casualties'].sum().sort_values(ascending=False).reset_index()\n",
    "hf"
   ]
  },
  {
   "cell_type": "code",
   "execution_count": null,
   "id": "22fe3dba",
   "metadata": {},
   "outputs": [],
   "source": []
  },
  {
   "cell_type": "code",
   "execution_count": 35,
   "id": "e6b94cae",
   "metadata": {},
   "outputs": [
    {
     "data": {
      "text/html": [
       "<div>\n",
       "<style scoped>\n",
       "    .dataframe tbody tr th:only-of-type {\n",
       "        vertical-align: middle;\n",
       "    }\n",
       "\n",
       "    .dataframe tbody tr th {\n",
       "        vertical-align: top;\n",
       "    }\n",
       "\n",
       "    .dataframe thead th {\n",
       "        text-align: right;\n",
       "    }\n",
       "</style>\n",
       "<table border=\"1\" class=\"dataframe\">\n",
       "  <thead>\n",
       "    <tr style=\"text-align: right;\">\n",
       "      <th></th>\n",
       "      <th>Speed_limit</th>\n",
       "      <th>Number_of_Casualties</th>\n",
       "    </tr>\n",
       "  </thead>\n",
       "  <tbody>\n",
       "    <tr>\n",
       "      <th>0</th>\n",
       "      <td>30.0</td>\n",
       "      <td>1639979</td>\n",
       "    </tr>\n",
       "    <tr>\n",
       "      <th>1</th>\n",
       "      <td>60.0</td>\n",
       "      <td>475343</td>\n",
       "    </tr>\n",
       "    <tr>\n",
       "      <th>2</th>\n",
       "      <td>40.0</td>\n",
       "      <td>238993</td>\n",
       "    </tr>\n",
       "    <tr>\n",
       "      <th>3</th>\n",
       "      <td>70.0</td>\n",
       "      <td>224175</td>\n",
       "    </tr>\n",
       "    <tr>\n",
       "      <th>4</th>\n",
       "      <td>50.0</td>\n",
       "      <td>103308</td>\n",
       "    </tr>\n",
       "    <tr>\n",
       "      <th>5</th>\n",
       "      <td>20.0</td>\n",
       "      <td>44507</td>\n",
       "    </tr>\n",
       "    <tr>\n",
       "      <th>6</th>\n",
       "      <td>10.0</td>\n",
       "      <td>22</td>\n",
       "    </tr>\n",
       "    <tr>\n",
       "      <th>7</th>\n",
       "      <td>15.0</td>\n",
       "      <td>18</td>\n",
       "    </tr>\n",
       "    <tr>\n",
       "      <th>8</th>\n",
       "      <td>0.0</td>\n",
       "      <td>1</td>\n",
       "    </tr>\n",
       "  </tbody>\n",
       "</table>\n",
       "</div>"
      ],
      "text/plain": [
       "   Speed_limit  Number_of_Casualties\n",
       "0         30.0               1639979\n",
       "1         60.0                475343\n",
       "2         40.0                238993\n",
       "3         70.0                224175\n",
       "4         50.0                103308\n",
       "5         20.0                 44507\n",
       "6         10.0                    22\n",
       "7         15.0                    18\n",
       "8          0.0                     1"
      ]
     },
     "execution_count": 35,
     "metadata": {},
     "output_type": "execute_result"
    }
   ],
   "source": [
    "#Number of Casualties with respect to Speed Limit\n",
    "hg=a.groupby(['Speed_limit'])['Number_of_Casualties'].sum().sort_values(ascending=False).reset_index()\n",
    "hg"
   ]
  },
  {
   "cell_type": "code",
   "execution_count": 36,
   "id": "bdfde6fb",
   "metadata": {},
   "outputs": [
    {
     "data": {
      "text/plain": [
       "<bound method Series.unique of 0          1\n",
       "1          1\n",
       "2          1\n",
       "3          1\n",
       "4          1\n",
       "          ..\n",
       "2047251    1\n",
       "2047252    1\n",
       "2047253    1\n",
       "2047254    1\n",
       "2047255    2\n",
       "Name: Number_of_Casualties, Length: 2038571, dtype: int64>"
      ]
     },
     "execution_count": 36,
     "metadata": {},
     "output_type": "execute_result"
    }
   ],
   "source": [
    "a.Number_of_Casualties.unique"
   ]
  },
  {
   "cell_type": "code",
   "execution_count": null,
   "id": "bd8e99ff",
   "metadata": {},
   "outputs": [],
   "source": []
  },
  {
   "cell_type": "code",
   "execution_count": null,
   "id": "e6453e32",
   "metadata": {},
   "outputs": [],
   "source": []
  },
  {
   "cell_type": "code",
   "execution_count": null,
   "id": "b209f7fe",
   "metadata": {},
   "outputs": [],
   "source": []
  },
  {
   "cell_type": "code",
   "execution_count": 37,
   "id": "db4852c6",
   "metadata": {},
   "outputs": [
    {
     "data": {
      "image/png": "[encoded data removed]",
      "text/plain": [
       "<Figure size 720x504 with 1 Axes>"
      ]
     },
     "metadata": {
      "needs_background": "light"
     },
     "output_type": "display_data"
    }
   ],
   "source": [
    "fig, ax = plt.subplots(figsize=(10, 7))\n",
    "sns.lineplot(data=hg,x='Speed_limit',y='Number_of_Casualties')\n",
    "\n",
    "plt.ticklabel_format(style='plain',axis='y')\n",
    "plt.show()"
   ]
  },
  {
   "cell_type": "code",
   "execution_count": 38,
   "id": "d015c1c4",
   "metadata": {},
   "outputs": [
    {
     "data": {
      "image/png": "[encoded data removed]",
      "text/plain": [
       "<Figure size 720x504 with 1 Axes>"
      ]
     },
     "metadata": {
      "needs_background": "light"
     },
     "output_type": "display_data"
    }
   ],
   "source": [
    "fig, ax = plt.subplots(figsize=(10, 7))\n",
    "sns.lineplot(data=hg,x='Speed_limit',y='Number_of_Casualties')\n",
    "\n",
    "plt.ticklabel_format(style='plain',axis='y')\n",
    "plt.show()"
   ]
  },
  {
   "cell_type": "code",
   "execution_count": 39,
   "id": "bc488ba4",
   "metadata": {},
   "outputs": [
    {
     "name": "stderr",
     "output_type": "stream",
     "text": [
      "C:\\Users\\Somna\\anaconda3\\lib\\site-packages\\seaborn\\distributions.py:2619: FutureWarning: `distplot` is a deprecated function and will be removed in a future version. Please adapt your code to use either `displot` (a figure-level function with similar flexibility) or `histplot` (an axes-level function for histograms).\n",
      "  warnings.warn(msg, FutureWarning)\n"
     ]
    },
    {
     "data": {
      "image/png": "[encoded data removed]",
      "text/plain": [
       "<Figure size 864x576 with 1 Axes>"
      ]
     },
     "metadata": {},
     "output_type": "display_data"
    }
   ],
   "source": [
    "sns.set_style(style='darkgrid')\n",
    "plt.rcParams[\"axes.labelsize\"] = 20\n",
    "fig, ax = plt.subplots(figsize=(12, 8))\n",
    "sns.distplot(a['Hour'],bins=24,kde=False,norm_hist=True)\n",
    "\n",
    "\n",
    "plt.show()"
   ]
  },
  {
   "cell_type": "code",
   "execution_count": 40,
   "id": "846a9a04",
   "metadata": {},
   "outputs": [
    {
     "data": {
      "text/html": [
       "<div>\n",
       "<style scoped>\n",
       "    .dataframe tbody tr th:only-of-type {\n",
       "        vertical-align: middle;\n",
       "    }\n",
       "\n",
       "    .dataframe tbody tr th {\n",
       "        vertical-align: top;\n",
       "    }\n",
       "\n",
       "    .dataframe thead th {\n",
       "        text-align: right;\n",
       "    }\n",
       "</style>\n",
       "<table border=\"1\" class=\"dataframe\">\n",
       "  <thead>\n",
       "    <tr style=\"text-align: right;\">\n",
       "      <th></th>\n",
       "      <th>Local_Authority_(District)</th>\n",
       "      <th>Accident_Index</th>\n",
       "    </tr>\n",
       "  </thead>\n",
       "  <tbody>\n",
       "    <tr>\n",
       "      <th>0</th>\n",
       "      <td>Birmingham</td>\n",
       "      <td>39512</td>\n",
       "    </tr>\n",
       "    <tr>\n",
       "      <th>1</th>\n",
       "      <td>Leeds</td>\n",
       "      <td>27280</td>\n",
       "    </tr>\n",
       "    <tr>\n",
       "      <th>2</th>\n",
       "      <td>Westminster</td>\n",
       "      <td>19653</td>\n",
       "    </tr>\n",
       "    <tr>\n",
       "      <th>3</th>\n",
       "      <td>Glasgow City</td>\n",
       "      <td>18530</td>\n",
       "    </tr>\n",
       "    <tr>\n",
       "      <th>4</th>\n",
       "      <td>Bradford</td>\n",
       "      <td>18095</td>\n",
       "    </tr>\n",
       "  </tbody>\n",
       "</table>\n",
       "</div>"
      ],
      "text/plain": [
       "  Local_Authority_(District)  Accident_Index\n",
       "0                 Birmingham           39512\n",
       "1                      Leeds           27280\n",
       "2                Westminster           19653\n",
       "3               Glasgow City           18530\n",
       "4                   Bradford           18095"
      ]
     },
     "execution_count": 40,
     "metadata": {},
     "output_type": "execute_result"
    }
   ],
   "source": [
    "#Number of Accident with respect to District\n",
    "hi=a.groupby(['Local_Authority_(District)'])['Accident_Index'].count().sort_values(ascending=False).reset_index()\n",
    "hi[:5]"
   ]
  },
  {
   "cell_type": "code",
   "execution_count": 41,
   "id": "23e28211",
   "metadata": {},
   "outputs": [
    {
     "data": {
      "image/png": "[encoded data removed]",
      "text/plain": [
       "<Figure size 720x504 with 1 Axes>"
      ]
     },
     "metadata": {},
     "output_type": "display_data"
    }
   ],
   "source": [
    "\n",
    "fig, ax = plt.subplots(figsize=(10, 7))\n",
    "\n",
    "sns.barplot(data=hi[:5],x='Local_Authority_(District)',y='Accident_Index')\n",
    "plt.show()"
   ]
  },
  {
   "cell_type": "code",
   "execution_count": 42,
   "id": "73b62f3c",
   "metadata": {},
   "outputs": [],
   "source": [
    "#Accident Severity with respect to Number of Vehicles\n",
    "#hj=a.groupby(a['Number_of_Vehicles','Accident_Severity'])\n",
    "#hj"
   ]
  },
  {
   "cell_type": "code",
   "execution_count": 43,
   "id": "4f18e609",
   "metadata": {},
   "outputs": [
    {
     "data": {
      "text/html": [
       "<div>\n",
       "<style scoped>\n",
       "    .dataframe tbody tr th:only-of-type {\n",
       "        vertical-align: middle;\n",
       "    }\n",
       "\n",
       "    .dataframe tbody tr th {\n",
       "        vertical-align: top;\n",
       "    }\n",
       "\n",
       "    .dataframe thead th {\n",
       "        text-align: right;\n",
       "    }\n",
       "</style>\n",
       "<table border=\"1\" class=\"dataframe\">\n",
       "  <thead>\n",
       "    <tr style=\"text-align: right;\">\n",
       "      <th></th>\n",
       "      <th>Number_of_Vehicles</th>\n",
       "      <th>Number_of_Casualties</th>\n",
       "      <th>Accident_Index</th>\n",
       "    </tr>\n",
       "  </thead>\n",
       "  <tbody>\n",
       "    <tr>\n",
       "      <th>0</th>\n",
       "      <td>1</td>\n",
       "      <td>1</td>\n",
       "      <td>544034</td>\n",
       "    </tr>\n",
       "    <tr>\n",
       "      <th>1</th>\n",
       "      <td>1</td>\n",
       "      <td>2</td>\n",
       "      <td>54309</td>\n",
       "    </tr>\n",
       "    <tr>\n",
       "      <th>2</th>\n",
       "      <td>1</td>\n",
       "      <td>3</td>\n",
       "      <td>11103</td>\n",
       "    </tr>\n",
       "    <tr>\n",
       "      <th>3</th>\n",
       "      <td>1</td>\n",
       "      <td>4</td>\n",
       "      <td>4292</td>\n",
       "    </tr>\n",
       "    <tr>\n",
       "      <th>4</th>\n",
       "      <td>1</td>\n",
       "      <td>5</td>\n",
       "      <td>1391</td>\n",
       "    </tr>\n",
       "    <tr>\n",
       "      <th>5</th>\n",
       "      <td>1</td>\n",
       "      <td>6</td>\n",
       "      <td>282</td>\n",
       "    </tr>\n",
       "    <tr>\n",
       "      <th>6</th>\n",
       "      <td>1</td>\n",
       "      <td>7</td>\n",
       "      <td>91</td>\n",
       "    </tr>\n",
       "    <tr>\n",
       "      <th>7</th>\n",
       "      <td>2</td>\n",
       "      <td>1</td>\n",
       "      <td>914513</td>\n",
       "    </tr>\n",
       "    <tr>\n",
       "      <th>8</th>\n",
       "      <td>2</td>\n",
       "      <td>2</td>\n",
       "      <td>213952</td>\n",
       "    </tr>\n",
       "    <tr>\n",
       "      <th>9</th>\n",
       "      <td>2</td>\n",
       "      <td>3</td>\n",
       "      <td>57521</td>\n",
       "    </tr>\n",
       "    <tr>\n",
       "      <th>10</th>\n",
       "      <td>2</td>\n",
       "      <td>4</td>\n",
       "      <td>19254</td>\n",
       "    </tr>\n",
       "    <tr>\n",
       "      <th>11</th>\n",
       "      <td>2</td>\n",
       "      <td>5</td>\n",
       "      <td>6796</td>\n",
       "    </tr>\n",
       "    <tr>\n",
       "      <th>12</th>\n",
       "      <td>2</td>\n",
       "      <td>6</td>\n",
       "      <td>2404</td>\n",
       "    </tr>\n",
       "    <tr>\n",
       "      <th>13</th>\n",
       "      <td>2</td>\n",
       "      <td>7</td>\n",
       "      <td>766</td>\n",
       "    </tr>\n",
       "    <tr>\n",
       "      <th>14</th>\n",
       "      <td>3</td>\n",
       "      <td>1</td>\n",
       "      <td>92221</td>\n",
       "    </tr>\n",
       "    <tr>\n",
       "      <th>15</th>\n",
       "      <td>3</td>\n",
       "      <td>2</td>\n",
       "      <td>43194</td>\n",
       "    </tr>\n",
       "    <tr>\n",
       "      <th>16</th>\n",
       "      <td>3</td>\n",
       "      <td>3</td>\n",
       "      <td>17340</td>\n",
       "    </tr>\n",
       "    <tr>\n",
       "      <th>17</th>\n",
       "      <td>3</td>\n",
       "      <td>4</td>\n",
       "      <td>6365</td>\n",
       "    </tr>\n",
       "    <tr>\n",
       "      <th>18</th>\n",
       "      <td>3</td>\n",
       "      <td>5</td>\n",
       "      <td>2515</td>\n",
       "    </tr>\n",
       "    <tr>\n",
       "      <th>19</th>\n",
       "      <td>3</td>\n",
       "      <td>6</td>\n",
       "      <td>1001</td>\n",
       "    </tr>\n",
       "    <tr>\n",
       "      <th>20</th>\n",
       "      <td>3</td>\n",
       "      <td>7</td>\n",
       "      <td>349</td>\n",
       "    </tr>\n",
       "    <tr>\n",
       "      <th>21</th>\n",
       "      <td>4</td>\n",
       "      <td>1</td>\n",
       "      <td>16454</td>\n",
       "    </tr>\n",
       "    <tr>\n",
       "      <th>22</th>\n",
       "      <td>4</td>\n",
       "      <td>2</td>\n",
       "      <td>9596</td>\n",
       "    </tr>\n",
       "    <tr>\n",
       "      <th>23</th>\n",
       "      <td>4</td>\n",
       "      <td>3</td>\n",
       "      <td>4786</td>\n",
       "    </tr>\n",
       "    <tr>\n",
       "      <th>24</th>\n",
       "      <td>4</td>\n",
       "      <td>4</td>\n",
       "      <td>2364</td>\n",
       "    </tr>\n",
       "    <tr>\n",
       "      <th>25</th>\n",
       "      <td>4</td>\n",
       "      <td>5</td>\n",
       "      <td>959</td>\n",
       "    </tr>\n",
       "    <tr>\n",
       "      <th>26</th>\n",
       "      <td>4</td>\n",
       "      <td>6</td>\n",
       "      <td>490</td>\n",
       "    </tr>\n",
       "    <tr>\n",
       "      <th>27</th>\n",
       "      <td>4</td>\n",
       "      <td>7</td>\n",
       "      <td>187</td>\n",
       "    </tr>\n",
       "    <tr>\n",
       "      <th>28</th>\n",
       "      <td>5</td>\n",
       "      <td>1</td>\n",
       "      <td>3206</td>\n",
       "    </tr>\n",
       "    <tr>\n",
       "      <th>29</th>\n",
       "      <td>5</td>\n",
       "      <td>2</td>\n",
       "      <td>2012</td>\n",
       "    </tr>\n",
       "    <tr>\n",
       "      <th>30</th>\n",
       "      <td>5</td>\n",
       "      <td>3</td>\n",
       "      <td>1167</td>\n",
       "    </tr>\n",
       "    <tr>\n",
       "      <th>31</th>\n",
       "      <td>5</td>\n",
       "      <td>4</td>\n",
       "      <td>653</td>\n",
       "    </tr>\n",
       "    <tr>\n",
       "      <th>32</th>\n",
       "      <td>5</td>\n",
       "      <td>5</td>\n",
       "      <td>360</td>\n",
       "    </tr>\n",
       "    <tr>\n",
       "      <th>33</th>\n",
       "      <td>5</td>\n",
       "      <td>6</td>\n",
       "      <td>206</td>\n",
       "    </tr>\n",
       "    <tr>\n",
       "      <th>34</th>\n",
       "      <td>5</td>\n",
       "      <td>7</td>\n",
       "      <td>92</td>\n",
       "    </tr>\n",
       "    <tr>\n",
       "      <th>35</th>\n",
       "      <td>6</td>\n",
       "      <td>1</td>\n",
       "      <td>896</td>\n",
       "    </tr>\n",
       "    <tr>\n",
       "      <th>36</th>\n",
       "      <td>6</td>\n",
       "      <td>2</td>\n",
       "      <td>599</td>\n",
       "    </tr>\n",
       "    <tr>\n",
       "      <th>37</th>\n",
       "      <td>6</td>\n",
       "      <td>3</td>\n",
       "      <td>376</td>\n",
       "    </tr>\n",
       "    <tr>\n",
       "      <th>38</th>\n",
       "      <td>6</td>\n",
       "      <td>4</td>\n",
       "      <td>219</td>\n",
       "    </tr>\n",
       "    <tr>\n",
       "      <th>39</th>\n",
       "      <td>6</td>\n",
       "      <td>5</td>\n",
       "      <td>130</td>\n",
       "    </tr>\n",
       "    <tr>\n",
       "      <th>40</th>\n",
       "      <td>6</td>\n",
       "      <td>6</td>\n",
       "      <td>99</td>\n",
       "    </tr>\n",
       "    <tr>\n",
       "      <th>41</th>\n",
       "      <td>6</td>\n",
       "      <td>7</td>\n",
       "      <td>27</td>\n",
       "    </tr>\n",
       "  </tbody>\n",
       "</table>\n",
       "</div>"
      ],
      "text/plain": [
       "    Number_of_Vehicles  Number_of_Casualties  Accident_Index\n",
       "0                    1                     1          544034\n",
       "1                    1                     2           54309\n",
       "2                    1                     3           11103\n",
       "3                    1                     4            4292\n",
       "4                    1                     5            1391\n",
       "5                    1                     6             282\n",
       "6                    1                     7              91\n",
       "7                    2                     1          914513\n",
       "8                    2                     2          213952\n",
       "9                    2                     3           57521\n",
       "10                   2                     4           19254\n",
       "11                   2                     5            6796\n",
       "12                   2                     6            2404\n",
       "13                   2                     7             766\n",
       "14                   3                     1           92221\n",
       "15                   3                     2           43194\n",
       "16                   3                     3           17340\n",
       "17                   3                     4            6365\n",
       "18                   3                     5            2515\n",
       "19                   3                     6            1001\n",
       "20                   3                     7             349\n",
       "21                   4                     1           16454\n",
       "22                   4                     2            9596\n",
       "23                   4                     3            4786\n",
       "24                   4                     4            2364\n",
       "25                   4                     5             959\n",
       "26                   4                     6             490\n",
       "27                   4                     7             187\n",
       "28                   5                     1            3206\n",
       "29                   5                     2            2012\n",
       "30                   5                     3            1167\n",
       "31                   5                     4             653\n",
       "32                   5                     5             360\n",
       "33                   5                     6             206\n",
       "34                   5                     7              92\n",
       "35                   6                     1             896\n",
       "36                   6                     2             599\n",
       "37                   6                     3             376\n",
       "38                   6                     4             219\n",
       "39                   6                     5             130\n",
       "40                   6                     6              99\n",
       "41                   6                     7              27"
      ]
     },
     "execution_count": 43,
     "metadata": {},
     "output_type": "execute_result"
    }
   ],
   "source": [
    "# Relation of Number of Vehicles and Number of Casualties\n",
    "mpk=a.groupby(['Number_of_Vehicles','Number_of_Casualties'])['Accident_Index'].count().reset_index()\n",
    "mpk"
   ]
  },
  {
   "cell_type": "code",
   "execution_count": 44,
   "id": "5254916a",
   "metadata": {},
   "outputs": [
    {
     "data": {
      "image/png": "[encoded data removed]",
      "text/plain": [
       "<Figure size 720x504 with 1 Axes>"
      ]
     },
     "metadata": {},
     "output_type": "display_data"
    }
   ],
   "source": [
    "\n",
    "fig, ax = plt.subplots(figsize=(10, 7))\n",
    "\n",
    "sns.barplot(data=mpk,x='Number_of_Casualties',y='Accident_Index',hue='Number_of_Vehicles')\n",
    "plt.ticklabel_format(style='plain',axis='y')\n",
    "plt.show()"
   ]
  },
  {
   "cell_type": "code",
   "execution_count": 45,
   "id": "6d9c034a",
   "metadata": {},
   "outputs": [
    {
     "data": {
      "image/png": "[encoded data removed]",
      "text/plain": [
       "<Figure size 432x288 with 1 Axes>"
      ]
     },
     "metadata": {},
     "output_type": "display_data"
    }
   ],
   "source": [
    "mkpp=a.groupby(['Number_of_Vehicles'])['Accident_Index'].count().reset_index()\n",
    "mkpp\n",
    "sns.lineplot(data=mkpp,x='Number_of_Vehicles',y='Accident_Index')\n",
    "plt.ticklabel_format(style='plain',axis='y')\n",
    "plt.show()"
   ]
  },
  {
   "cell_type": "code",
   "execution_count": 46,
   "id": "34eef500",
   "metadata": {},
   "outputs": [
    {
     "data": {
      "image/png": "[encoded data removed]",
      "text/plain": [
       "<Figure size 432x288 with 1 Axes>"
      ]
     },
     "metadata": {},
     "output_type": "display_data"
    }
   ],
   "source": [
    "mkppp=a.groupby(['Number_of_Casualties'])['Accident_Index'].count().reset_index()\n",
    "mkppp\n",
    "sns.lineplot(data=mkppp,x='Number_of_Casualties',y='Accident_Index')\n",
    "plt.ticklabel_format(style='plain',axis='y')\n",
    "plt.show()"
   ]
  },
  {
   "cell_type": "code",
   "execution_count": 47,
   "id": "82f871be",
   "metadata": {},
   "outputs": [
    {
     "data": {
      "text/html": [
       "<div>\n",
       "<style scoped>\n",
       "    .dataframe tbody tr th:only-of-type {\n",
       "        vertical-align: middle;\n",
       "    }\n",
       "\n",
       "    .dataframe tbody tr th {\n",
       "        vertical-align: top;\n",
       "    }\n",
       "\n",
       "    .dataframe thead th {\n",
       "        text-align: right;\n",
       "    }\n",
       "</style>\n",
       "<table border=\"1\" class=\"dataframe\">\n",
       "  <thead>\n",
       "    <tr style=\"text-align: right;\">\n",
       "      <th></th>\n",
       "      <th>Light_Conditions</th>\n",
       "      <th>Accident_Index</th>\n",
       "    </tr>\n",
       "  </thead>\n",
       "  <tbody>\n",
       "    <tr>\n",
       "      <th>0</th>\n",
       "      <td>Daylight</td>\n",
       "      <td>1490167</td>\n",
       "    </tr>\n",
       "    <tr>\n",
       "      <th>1</th>\n",
       "      <td>Darkness - lights lit</td>\n",
       "      <td>402404</td>\n",
       "    </tr>\n",
       "    <tr>\n",
       "      <th>2</th>\n",
       "      <td>Darkness - no lighting</td>\n",
       "      <td>112176</td>\n",
       "    </tr>\n",
       "    <tr>\n",
       "      <th>3</th>\n",
       "      <td>Darkness - lighting unknown</td>\n",
       "      <td>23911</td>\n",
       "    </tr>\n",
       "    <tr>\n",
       "      <th>4</th>\n",
       "      <td>Darkness - lights unlit</td>\n",
       "      <td>9912</td>\n",
       "    </tr>\n",
       "  </tbody>\n",
       "</table>\n",
       "</div>"
      ],
      "text/plain": [
       "              Light_Conditions  Accident_Index\n",
       "0                     Daylight         1490167\n",
       "1        Darkness - lights lit          402404\n",
       "2       Darkness - no lighting          112176\n",
       "3  Darkness - lighting unknown           23911\n",
       "4      Darkness - lights unlit            9912"
      ]
     },
     "execution_count": 47,
     "metadata": {},
     "output_type": "execute_result"
    }
   ],
   "source": [
    "a=a[a['Light_Conditions'] !='Data missing or out of range']\n",
    "#Accidents with respect to Light Condition\n",
    "hk=a.groupby(['Light_Conditions'])['Accident_Index'].count().sort_values(ascending=False).reset_index()\n",
    "hk"
   ]
  },
  {
   "cell_type": "code",
   "execution_count": 48,
   "id": "be2451df",
   "metadata": {},
   "outputs": [
    {
     "data": {
      "image/png": "[encoded data removed]",
      "text/plain": [
       "<Figure size 864x576 with 1 Axes>"
      ]
     },
     "metadata": {},
     "output_type": "display_data"
    }
   ],
   "source": [
    "fig, ax = plt.subplots(figsize=(12, 8))\n",
    "sns.barplot(data=hk,x='Light_Conditions',y='Accident_Index')\n",
    "\n",
    "plt.ticklabel_format(style='plain',axis='y')\n",
    "plt.show()"
   ]
  },
  {
   "cell_type": "code",
   "execution_count": 49,
   "id": "c349c013",
   "metadata": {},
   "outputs": [
    {
     "data": {
      "text/html": [
       "<div>\n",
       "<style scoped>\n",
       "    .dataframe tbody tr th:only-of-type {\n",
       "        vertical-align: middle;\n",
       "    }\n",
       "\n",
       "    .dataframe tbody tr th {\n",
       "        vertical-align: top;\n",
       "    }\n",
       "\n",
       "    .dataframe thead th {\n",
       "        text-align: right;\n",
       "    }\n",
       "</style>\n",
       "<table border=\"1\" class=\"dataframe\">\n",
       "  <thead>\n",
       "    <tr style=\"text-align: right;\">\n",
       "      <th></th>\n",
       "      <th>Road_Type</th>\n",
       "      <th>Accident_Index</th>\n",
       "    </tr>\n",
       "  </thead>\n",
       "  <tbody>\n",
       "    <tr>\n",
       "      <th>0</th>\n",
       "      <td>Single carriageway</td>\n",
       "      <td>1523088</td>\n",
       "    </tr>\n",
       "    <tr>\n",
       "      <th>1</th>\n",
       "      <td>Dual carriageway</td>\n",
       "      <td>301454</td>\n",
       "    </tr>\n",
       "    <tr>\n",
       "      <th>2</th>\n",
       "      <td>Roundabout</td>\n",
       "      <td>136301</td>\n",
       "    </tr>\n",
       "    <tr>\n",
       "      <th>3</th>\n",
       "      <td>One way street</td>\n",
       "      <td>43045</td>\n",
       "    </tr>\n",
       "    <tr>\n",
       "      <th>4</th>\n",
       "      <td>Slip road</td>\n",
       "      <td>21476</td>\n",
       "    </tr>\n",
       "    <tr>\n",
       "      <th>5</th>\n",
       "      <td>Unknown</td>\n",
       "      <td>13206</td>\n",
       "    </tr>\n",
       "  </tbody>\n",
       "</table>\n",
       "</div>"
      ],
      "text/plain": [
       "            Road_Type  Accident_Index\n",
       "0  Single carriageway         1523088\n",
       "1    Dual carriageway          301454\n",
       "2          Roundabout          136301\n",
       "3      One way street           43045\n",
       "4           Slip road           21476\n",
       "5             Unknown           13206"
      ]
     },
     "execution_count": 49,
     "metadata": {},
     "output_type": "execute_result"
    }
   ],
   "source": [
    "#Accidents With respect to Road Type\n",
    "hl=a.groupby(['Road_Type'])['Accident_Index'].count().sort_values(ascending=False).reset_index()\n",
    "hl"
   ]
  },
  {
   "cell_type": "code",
   "execution_count": 50,
   "id": "eeb80f61",
   "metadata": {},
   "outputs": [
    {
     "data": {
      "image/png": "[encoded data removed]",
      "text/plain": [
       "<Figure size 864x576 with 1 Axes>"
      ]
     },
     "metadata": {},
     "output_type": "display_data"
    }
   ],
   "source": [
    "\n",
    "fig, ax = plt.subplots(figsize=(12, 8))\n",
    "sns.barplot(data=hl,x='Road_Type',y='Accident_Index')\n",
    "plt.ticklabel_format(style='plain',axis='y')\n",
    "plt.show()"
   ]
  },
  {
   "cell_type": "code",
   "execution_count": 51,
   "id": "f4c33212",
   "metadata": {
    "scrolled": true
   },
   "outputs": [
    {
     "name": "stderr",
     "output_type": "stream",
     "text": [
      "C:\\Users\\Somna\\AppData\\Local\\Temp/ipykernel_1388/1832519515.py:2: DeprecationWarning: `np.str` is a deprecated alias for the builtin `str`. To silence this warning, use `str` by itself. Doing this will not modify any behavior and is safe. If you specifically wanted the numpy scalar type, use `np.str_` here.\n",
      "Deprecated in NumPy 1.20; for more details and guidance: https://numpy.org/devdocs/release/1.20.0-notes.html#deprecations\n",
      "  a['Did_Police_Officer_Attend_Scene_of_Accident']=a['Did_Police_Officer_Attend_Scene_of_Accident'].astype(np.str)\n"
     ]
    }
   ],
   "source": [
    "#Presence of Police Officer with respect to Urban or Rural Area\n",
    "a['Did_Police_Officer_Attend_Scene_of_Accident']=a['Did_Police_Officer_Attend_Scene_of_Accident'].astype(np.str)"
   ]
  },
  {
   "cell_type": "code",
   "execution_count": null,
   "id": "1e8f7956",
   "metadata": {},
   "outputs": [],
   "source": []
  },
  {
   "cell_type": "code",
   "execution_count": 52,
   "id": "57acef00",
   "metadata": {},
   "outputs": [
    {
     "data": {
      "text/html": [
       "<div>\n",
       "<style scoped>\n",
       "    .dataframe tbody tr th:only-of-type {\n",
       "        vertical-align: middle;\n",
       "    }\n",
       "\n",
       "    .dataframe tbody tr th {\n",
       "        vertical-align: top;\n",
       "    }\n",
       "\n",
       "    .dataframe thead th {\n",
       "        text-align: right;\n",
       "    }\n",
       "</style>\n",
       "<table border=\"1\" class=\"dataframe\">\n",
       "  <thead>\n",
       "    <tr style=\"text-align: right;\">\n",
       "      <th></th>\n",
       "      <th>Urban_or_Rural_Area</th>\n",
       "      <th>Did_Police_Officer_Attend_Scene_of_Accident</th>\n",
       "      <th>Accident_Index</th>\n",
       "    </tr>\n",
       "  </thead>\n",
       "  <tbody>\n",
       "    <tr>\n",
       "      <th>0</th>\n",
       "      <td>Rural</td>\n",
       "      <td>1.0</td>\n",
       "      <td>626418</td>\n",
       "    </tr>\n",
       "    <tr>\n",
       "      <th>1</th>\n",
       "      <td>Rural</td>\n",
       "      <td>2.0</td>\n",
       "      <td>94489</td>\n",
       "    </tr>\n",
       "    <tr>\n",
       "      <th>2</th>\n",
       "      <td>Rural</td>\n",
       "      <td>3.0</td>\n",
       "      <td>735</td>\n",
       "    </tr>\n",
       "    <tr>\n",
       "      <th>3</th>\n",
       "      <td>Urban</td>\n",
       "      <td>1.0</td>\n",
       "      <td>1008110</td>\n",
       "    </tr>\n",
       "    <tr>\n",
       "      <th>4</th>\n",
       "      <td>Urban</td>\n",
       "      <td>2.0</td>\n",
       "      <td>305333</td>\n",
       "    </tr>\n",
       "    <tr>\n",
       "      <th>5</th>\n",
       "      <td>Urban</td>\n",
       "      <td>3.0</td>\n",
       "      <td>3485</td>\n",
       "    </tr>\n",
       "  </tbody>\n",
       "</table>\n",
       "</div>"
      ],
      "text/plain": [
       "  Urban_or_Rural_Area Did_Police_Officer_Attend_Scene_of_Accident  \\\n",
       "0               Rural                                         1.0   \n",
       "1               Rural                                         2.0   \n",
       "2               Rural                                         3.0   \n",
       "3               Urban                                         1.0   \n",
       "4               Urban                                         2.0   \n",
       "5               Urban                                         3.0   \n",
       "\n",
       "   Accident_Index  \n",
       "0          626418  \n",
       "1           94489  \n",
       "2             735  \n",
       "3         1008110  \n",
       "4          305333  \n",
       "5            3485  "
      ]
     },
     "execution_count": 52,
     "metadata": {},
     "output_type": "execute_result"
    }
   ],
   "source": [
    "hm=a.groupby(['Urban_or_Rural_Area','Did_Police_Officer_Attend_Scene_of_Accident'])['Accident_Index'].count().reset_index()\n",
    "hm"
   ]
  },
  {
   "cell_type": "code",
   "execution_count": 53,
   "id": "30978435",
   "metadata": {},
   "outputs": [
    {
     "data": {
      "image/png": "[encoded data removed]",
      "text/plain": [
       "<Figure size 864x576 with 1 Axes>"
      ]
     },
     "metadata": {},
     "output_type": "display_data"
    }
   ],
   "source": [
    "fig, ax = plt.subplots(figsize=(12, 8))\n",
    "\n",
    "plt.rcParams[\"axes.labelsize\"] = 20\n",
    "\n",
    "sns.lineplot(x='Did_Police_Officer_Attend_Scene_of_Accident',y='Accident_Index',data=hm,hue='Urban_or_Rural_Area')\n",
    "plt.setp(ax.get_legend().get_texts(), fontsize='22')\n",
    "plt.ticklabel_format(style='plain',axis='y')\n",
    "plt.show()\n"
   ]
  },
  {
   "cell_type": "code",
   "execution_count": 54,
   "id": "6c206b72",
   "metadata": {},
   "outputs": [
    {
     "name": "stdout",
     "output_type": "stream",
     "text": [
      "<class 'pandas.core.frame.DataFrame'>\n",
      "Int64Index: 2038570 entries, 0 to 2047255\n",
      "Data columns (total 38 columns):\n",
      " #   Column                                       Dtype         \n",
      "---  ------                                       -----         \n",
      " 0   Accident_Index                               object        \n",
      " 1   1st_Road_Class                               object        \n",
      " 2   1st_Road_Number                              float64       \n",
      " 3   2nd_Road_Class                               object        \n",
      " 4   2nd_Road_Number                              float64       \n",
      " 5   Accident_Severity                            object        \n",
      " 6   Carriageway_Hazards                          object        \n",
      " 7   Date                                         datetime64[ns]\n",
      " 8   Day_of_Week                                  object        \n",
      " 9   Did_Police_Officer_Attend_Scene_of_Accident  object        \n",
      " 10  Junction_Control                             object        \n",
      " 11  Junction_Detail                              object        \n",
      " 12  Latitude                                     float64       \n",
      " 13  Light_Conditions                             object        \n",
      " 14  Local_Authority_(District)                   object        \n",
      " 15  Local_Authority_(Highway)                    object        \n",
      " 16  Location_Easting_OSGR                        float64       \n",
      " 17  Location_Northing_OSGR                       float64       \n",
      " 18  Longitude                                    float64       \n",
      " 19  LSOA_of_Accident_Location                    object        \n",
      " 20  Number_of_Casualties                         int64         \n",
      " 21  Number_of_Vehicles                           int64         \n",
      " 22  Pedestrian_Crossing-Human_Control            float64       \n",
      " 23  Pedestrian_Crossing-Physical_Facilities      float64       \n",
      " 24  Police_Force                                 object        \n",
      " 25  Road_Surface_Conditions                      object        \n",
      " 26  Road_Type                                    object        \n",
      " 27  Special_Conditions_at_Site                   object        \n",
      " 28  Speed_limit                                  float64       \n",
      " 29  Time                                         object        \n",
      " 30  Urban_or_Rural_Area                          object        \n",
      " 31  Weather_Conditions                           object        \n",
      " 32  Year                                         int64         \n",
      " 33  InScotland                                   object        \n",
      " 34  Hour                                         object        \n",
      " 35  Minutes                                      object        \n",
      " 36  Seconds                                      object        \n",
      " 37  Month                                        int64         \n",
      "dtypes: datetime64[ns](1), float64(9), int64(4), object(24)\n",
      "memory usage: 606.6+ MB\n"
     ]
    }
   ],
   "source": [
    "a.info()"
   ]
  },
  {
   "cell_type": "code",
   "execution_count": 55,
   "id": "5dbf91b9",
   "metadata": {},
   "outputs": [],
   "source": [
    "hn=a.groupby(['Local_Authority_(District)','Did_Police_Officer_Attend_Scene_of_Accident'])['Accident_Index'].count().sort_values(ascending=False).reset_index()\n",
    "ho=hn[hn['Did_Police_Officer_Attend_Scene_of_Accident']=='2.0'][:5]"
   ]
  },
  {
   "cell_type": "code",
   "execution_count": 56,
   "id": "98fb2994",
   "metadata": {},
   "outputs": [
    {
     "data": {
      "image/png": "[encoded data removed]",
      "text/plain": [
       "<Figure size 864x576 with 1 Axes>"
      ]
     },
     "metadata": {},
     "output_type": "display_data"
    }
   ],
   "source": [
    "fig, ax = plt.subplots(figsize=(12, 8))\n",
    "plt.rcParams[\"axes.labelsize\"] = 20\n",
    "sns.barplot(data=ho,x='Local_Authority_(District)',y='Accident_Index')\n",
    "\n",
    "plt.ticklabel_format(style='plain',axis='y')\n",
    "plt.show()\n",
    "\n"
   ]
  },
  {
   "cell_type": "code",
   "execution_count": 57,
   "id": "eebed985",
   "metadata": {},
   "outputs": [],
   "source": [
    "a=a[a['Weather_Conditions']!='Data missing or out of range']\n",
    "\n"
   ]
  },
  {
   "cell_type": "code",
   "execution_count": 58,
   "id": "53abecb7",
   "metadata": {},
   "outputs": [
    {
     "data": {
      "text/html": [
       "<div>\n",
       "<style scoped>\n",
       "    .dataframe tbody tr th:only-of-type {\n",
       "        vertical-align: middle;\n",
       "    }\n",
       "\n",
       "    .dataframe tbody tr th {\n",
       "        vertical-align: top;\n",
       "    }\n",
       "\n",
       "    .dataframe thead th {\n",
       "        text-align: right;\n",
       "    }\n",
       "</style>\n",
       "<table border=\"1\" class=\"dataframe\">\n",
       "  <thead>\n",
       "    <tr style=\"text-align: right;\">\n",
       "      <th></th>\n",
       "      <th>Weather_Conditions</th>\n",
       "      <th>Accident_Index</th>\n",
       "    </tr>\n",
       "  </thead>\n",
       "  <tbody>\n",
       "    <tr>\n",
       "      <th>0</th>\n",
       "      <td>Fine no high winds</td>\n",
       "      <td>1636383</td>\n",
       "    </tr>\n",
       "    <tr>\n",
       "      <th>1</th>\n",
       "      <td>Raining no high winds</td>\n",
       "      <td>238792</td>\n",
       "    </tr>\n",
       "    <tr>\n",
       "      <th>2</th>\n",
       "      <td>Other</td>\n",
       "      <td>43845</td>\n",
       "    </tr>\n",
       "    <tr>\n",
       "      <th>3</th>\n",
       "      <td>Unknown</td>\n",
       "      <td>38544</td>\n",
       "    </tr>\n",
       "    <tr>\n",
       "      <th>4</th>\n",
       "      <td>Raining + high winds</td>\n",
       "      <td>28273</td>\n",
       "    </tr>\n",
       "    <tr>\n",
       "      <th>5</th>\n",
       "      <td>Fine + high winds</td>\n",
       "      <td>25751</td>\n",
       "    </tr>\n",
       "    <tr>\n",
       "      <th>6</th>\n",
       "      <td>Snowing no high winds</td>\n",
       "      <td>13358</td>\n",
       "    </tr>\n",
       "    <tr>\n",
       "      <th>7</th>\n",
       "      <td>Fog or mist</td>\n",
       "      <td>11011</td>\n",
       "    </tr>\n",
       "    <tr>\n",
       "      <th>8</th>\n",
       "      <td>Snowing + high winds</td>\n",
       "      <td>2467</td>\n",
       "    </tr>\n",
       "  </tbody>\n",
       "</table>\n",
       "</div>"
      ],
      "text/plain": [
       "      Weather_Conditions  Accident_Index\n",
       "0     Fine no high winds         1636383\n",
       "1  Raining no high winds          238792\n",
       "2                  Other           43845\n",
       "3                Unknown           38544\n",
       "4   Raining + high winds           28273\n",
       "5      Fine + high winds           25751\n",
       "6  Snowing no high winds           13358\n",
       "7            Fog or mist           11011\n",
       "8   Snowing + high winds            2467"
      ]
     },
     "execution_count": 58,
     "metadata": {},
     "output_type": "execute_result"
    }
   ],
   "source": [
    "hp=a.groupby(['Weather_Conditions'])['Accident_Index'].count().sort_values(ascending=False).reset_index()\n",
    "\n",
    "hp"
   ]
  },
  {
   "cell_type": "code",
   "execution_count": 59,
   "id": "4e0cf489",
   "metadata": {},
   "outputs": [
    {
     "data": {
      "image/png": "[encoded data removed]",
      "text/plain": [
       "<Figure size 1080x576 with 1 Axes>"
      ]
     },
     "metadata": {},
     "output_type": "display_data"
    }
   ],
   "source": [
    "fig, ax = plt.subplots(figsize=(15, 8))\n",
    "\n",
    "sns.barplot(data=hp,x='Weather_Conditions',y='Accident_Index')\n",
    "plt.rcParams[\"axes.labelsize\"] = 20\n",
    "\n",
    "plt.ticklabel_format(style='plain',axis='y')\n",
    "plt.show()"
   ]
  },
  {
   "cell_type": "code",
   "execution_count": 70,
   "id": "65e42c6f",
   "metadata": {},
   "outputs": [
    {
     "data": {
      "image/png": "[encoded data removed]",
      "text/plain": [
       "<Figure size 864x576 with 1 Axes>"
      ]
     },
     "metadata": {},
     "output_type": "display_data"
    }
   ],
   "source": [
    "fig, ax = plt.subplots(figsize=(12, 8))\n",
    "plt.rcParams[\"axes.labelsize\"] = 20\n",
    "sns.barplot(data=hk,x='Light_Conditions',y='Accident_Index')\n",
    "\n",
    "plt.ticklabel_format(style='plain',axis='y')\n",
    "plt.show()"
   ]
  },
  {
   "cell_type": "code",
   "execution_count": 77,
   "id": "f5c358a4",
   "metadata": {},
   "outputs": [
    {
     "data": {
      "text/html": [
       "<div>\n",
       "<style scoped>\n",
       "    .dataframe tbody tr th:only-of-type {\n",
       "        vertical-align: middle;\n",
       "    }\n",
       "\n",
       "    .dataframe tbody tr th {\n",
       "        vertical-align: top;\n",
       "    }\n",
       "\n",
       "    .dataframe thead th {\n",
       "        text-align: right;\n",
       "    }\n",
       "</style>\n",
       "<table border=\"1\" class=\"dataframe\">\n",
       "  <thead>\n",
       "    <tr style=\"text-align: right;\">\n",
       "      <th></th>\n",
       "      <th>Speed_limit</th>\n",
       "      <th>Accident_Index</th>\n",
       "    </tr>\n",
       "  </thead>\n",
       "  <tbody>\n",
       "    <tr>\n",
       "      <th>0</th>\n",
       "      <td>30.0</td>\n",
       "      <td>1301010</td>\n",
       "    </tr>\n",
       "    <tr>\n",
       "      <th>1</th>\n",
       "      <td>60.0</td>\n",
       "      <td>316352</td>\n",
       "    </tr>\n",
       "    <tr>\n",
       "      <th>2</th>\n",
       "      <td>40.0</td>\n",
       "      <td>167814</td>\n",
       "    </tr>\n",
       "    <tr>\n",
       "      <th>3</th>\n",
       "      <td>70.0</td>\n",
       "      <td>145902</td>\n",
       "    </tr>\n",
       "    <tr>\n",
       "      <th>4</th>\n",
       "      <td>50.0</td>\n",
       "      <td>69214</td>\n",
       "    </tr>\n",
       "    <tr>\n",
       "      <th>5</th>\n",
       "      <td>20.0</td>\n",
       "      <td>38096</td>\n",
       "    </tr>\n",
       "  </tbody>\n",
       "</table>\n",
       "</div>"
      ],
      "text/plain": [
       "   Speed_limit  Accident_Index\n",
       "0         30.0         1301010\n",
       "1         60.0          316352\n",
       "2         40.0          167814\n",
       "3         70.0          145902\n",
       "4         50.0           69214\n",
       "5         20.0           38096"
      ]
     },
     "execution_count": 77,
     "metadata": {},
     "output_type": "execute_result"
    }
   ],
   "source": [
    "a=a[a['Speed_limit']!=0]\n",
    "a=a[a['Speed_limit']!=10.0 ]\n",
    "a=a[a['Speed_limit']!=15.0 ]\n",
    "z=a.groupby(['Speed_limit'])['Accident_Index'].count().sort_values(ascending=False).reset_index()\n",
    "z\n"
   ]
  },
  {
   "cell_type": "code",
   "execution_count": 78,
   "id": "41fe5abf",
   "metadata": {},
   "outputs": [
    {
     "data": {
      "image/png": "[encoded data removed]",
      "text/plain": [
       "<Figure size 864x576 with 1 Axes>"
      ]
     },
     "metadata": {},
     "output_type": "display_data"
    }
   ],
   "source": [
    "fig, ax = plt.subplots(figsize=(12, 8))\n",
    "sns.lineplot(data=z,x='Speed_limit',y='Accident_Index')\n",
    "\n",
    "plt.ticklabel_format(style='plain',axis='y')\n",
    "plt.rcParams[\"axes.labelsize\"] = 20\n",
    "plt.show()"
   ]
  },
  {
   "cell_type": "code",
   "execution_count": 79,
   "id": "c44dd571",
   "metadata": {},
   "outputs": [
    {
     "data": {
      "image/png": "[encoded data removed]",
      "text/plain": [
       "<Figure size 864x576 with 1 Axes>"
      ]
     },
     "metadata": {},
     "output_type": "display_data"
    }
   ],
   "source": [
    "ym=a.groupby(['Number_of_Casualties'])['Accident_Index'].count().sort_values(ascending=False).reset_index()\n",
    "ym\n",
    "fig, ax = plt.subplots(figsize=(12, 8))\n",
    "sns.lineplot(data=ym,x='Number_of_Casualties',y='Accident_Index')\n",
    "plt.rcParams[\"axes.labelsize\"] = 20\n",
    "plt.ticklabel_format(style='plain',axis='y')\n",
    "plt.show()"
   ]
  },
  {
   "cell_type": "code",
   "execution_count": null,
   "id": "ee87ddd2",
   "metadata": {},
   "outputs": [],
   "source": []
  },
  {
   "cell_type": "code",
   "execution_count": null,
   "id": "17fbcfb9",
   "metadata": {},
   "outputs": [],
   "source": [
    "#Timeframe of Accidents and possible reason "
   ]
  },
  {
   "cell_type": "markdown",
   "id": "f7775060",
   "metadata": {},
   "source": [
    "From 8-10AM and 15-17PM, there is a higher Number of Accidents than rest of the day. Reason may be there is a hurry to leave for workplace and getting back from workplace."
   ]
  },
  {
   "cell_type": "code",
   "execution_count": null,
   "id": "64e953bb",
   "metadata": {},
   "outputs": [],
   "source": [
    "#Presence of Police Officer with respect to Urban or Rural Area and Districts where police came late"
   ]
  },
  {
   "cell_type": "markdown",
   "id": "f5597dc5",
   "metadata": {},
   "source": [
    "It is evdent that in Urban areas,the Number of Police came late to the Accident spot is less  than Rural areas. The top 5 Local_Authority_(District), where Police came late are Birmingham,Leeds,Liverpool,Glasgow City and Bristol."
   ]
  },
  {
   "cell_type": "code",
   "execution_count": null,
   "id": "1b0ec379",
   "metadata": {},
   "outputs": [],
   "source": [
    "#Highest Number of Accidents in Day of Week and Possibel Reason"
   ]
  },
  {
   "cell_type": "markdown",
   "id": "7fca6cdc",
   "metadata": {},
   "source": [
    "Highest number of accidents happend in Friday and Lowest Number of accidents happend in Sunday. Friday being the last day of work and Sunday being Holiday in a week ."
   ]
  },
  {
   "cell_type": "code",
   "execution_count": null,
   "id": "7156d1b6",
   "metadata": {},
   "outputs": [],
   "source": [
    "#Relation of Number of Casualties with Speed Limit"
   ]
  },
  {
   "cell_type": "markdown",
   "id": "96736434",
   "metadata": {},
   "source": [
    "Number of accidents below 20 Speed Limit is very low i.e. <30 accidents. More than 63% accidents happend with Speed Limit of 30Kmph and more than 77% of accidents caused casualties of 1."
   ]
  },
  {
   "cell_type": "code",
   "execution_count": null,
   "id": "8655ad1a",
   "metadata": {},
   "outputs": [],
   "source": [
    "#Relation of Number of Vehilces with Number of Casualties "
   ]
  },
  {
   "cell_type": "markdown",
   "id": "d672e539",
   "metadata": {},
   "source": [
    "Highest number of accidents happened with Two Vehicles and One Casualty. Second Highest Number of Casualties happend with One Vehicles and Two Casualty."
   ]
  },
  {
   "cell_type": "code",
   "execution_count": null,
   "id": "3f9b330c",
   "metadata": {},
   "outputs": [],
   "source": [
    "#Effect of Light Condition and Weather Condition on Number of Accidents"
   ]
  },
  {
   "cell_type": "markdown",
   "id": "a980a0e5",
   "metadata": {},
   "source": [
    "\n",
    "Highest number of accidents happened in Fine no high winds-Daylight conditions. Sencond highest number accidents happened in Raining no high winds-Darkness light lit conditions. So it it is evident that more than 70% of the accidents haven't affected by adverse conditions of Light and Weather.  "
   ]
  },
  {
   "cell_type": "code",
   "execution_count": null,
   "id": "e7f5e26e",
   "metadata": {},
   "outputs": [],
   "source": [
    "a.to_csv('Uk_Road_Accidents_Cleaned.csv')"
   ]
  },
  {
   "cell_type": "code",
   "execution_count": null,
   "id": "5071f77d",
   "metadata": {},
   "outputs": [],
   "source": []
  },
  {
   "cell_type": "code",
   "execution_count": null,
   "id": "ef1ccf23",
   "metadata": {},
   "outputs": [],
   "source": []
  },
  {
   "cell_type": "code",
   "execution_count": null,
   "id": "a93dd4d5",
   "metadata": {},
   "outputs": [],
   "source": []
  },
  {
   "cell_type": "code",
   "execution_count": null,
   "id": "77b5bf8f",
   "metadata": {},
   "outputs": [],
   "source": []
  }
 ],
 "metadata": {
  "kernelspec": {
   "display_name": "Python 3 (ipykernel)",
   "language": "python",
   "name": "python3"
  },
  "language_info": {
   "codemirror_mode": {
    "name": "ipython",
    "version": 3
   },
   "file_extension": ".py",
   "mimetype": "text/x-python",
   "name": "python",
   "nbconvert_exporter": "python",
   "pygments_lexer": "ipython3",
   "version": "3.9.7"
  }
 },
 "nbformat": 4,
 "nbformat_minor": 5
}
